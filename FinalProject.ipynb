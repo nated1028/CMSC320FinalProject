{
 "cells": [
  {
   "cell_type": "markdown",
   "metadata": {},
   "source": [
    "# **What makes a man?**\n",
    "### *Final Project for Introduction to Data Science at the University of Maryland, College Park*\n",
    "#### **Authors:** Nate Dudley, Tsipora Stone, and Alan Kossoy"
   ]
  },
  {
   "cell_type": "markdown",
   "metadata": {},
   "source": [
    "### **Introduction**\n",
    "\n",
    "In 2006, Tarana Burke first coined the phrase \"Me Too\" to help women who had survived sexual assault or violence of any kind. For 10 years after, this phrase became an instant sensation for all people who wished to report a sexual assault encounter. In October, 2017, the #MeToo hashtag went viral on Twitter, with millions of users using this hashtag. After this movement, many men began to question their actions as men and what \"masculinity\" really entailed. To learn more about the #MeToo movement, go to https://www.nytimes.com/series/metoo-moment \n",
    "\n",
    "In order to discover how men truly felt about their masculinity in the wake of the \"#MeToo\" movement, FiveThirtyEight created a survey in partnership with SurveyMonkey and WNYC Studios in which they polled 1,615 men above the age of 18 for two weeks in May 2018 on how masculine they feel and their lifestyle choices, asking questions such as how often do you cry. The motivation for this project came from this article: https://fivethirtyeight.com/features/what-do-men-think-it-means-to-be-a-man/ and the csv file with the data resulting from this survey can be found here: https://www.kaggle.com/fivethirtyeight/fivethirtyeight-masculinity-survey-dataset/version/96#README.md \n",
    "\n",
    "In this project, we want to explore what factors are considered masculine in today's society and how men view these attributes. "
   ]
  },
  {
   "cell_type": "markdown",
   "metadata": {},
   "source": [
    "### **Data Collection**\n",
    "\n",
    "We imported the pandas library to curate the data from the csv file (more information about Pandas can be found here - https://pandas.pydata.org/. In order to do analysis on the data, read in the csv file and store it in a pandas dataframe. We did not have to preprocess the data because it was already formatted nicely in a csv file. The dataframe has columns which include:\n",
    "\n",
    "**start date, end date, 36 questions from the survey, race and ethnicity, education, age, amount of kids, sexual orientation**"
   ]
  },
  {
   "cell_type": "code",
   "execution_count": 1,
   "metadata": {
    "scrolled": true
   },
   "outputs": [
    {
     "data": {
      "text/html": [
       "<div>\n",
       "<style scoped>\n",
       "    .dataframe tbody tr th:only-of-type {\n",
       "        vertical-align: middle;\n",
       "    }\n",
       "\n",
       "    .dataframe tbody tr th {\n",
       "        vertical-align: top;\n",
       "    }\n",
       "\n",
       "    .dataframe thead th {\n",
       "        text-align: right;\n",
       "    }\n",
       "</style>\n",
       "<table border=\"1\" class=\"dataframe\">\n",
       "  <thead>\n",
       "    <tr style=\"text-align: right;\">\n",
       "      <th></th>\n",
       "      <th>Unnamed: 0</th>\n",
       "      <th>StartDate</th>\n",
       "      <th>EndDate</th>\n",
       "      <th>q0001</th>\n",
       "      <th>q0002</th>\n",
       "      <th>q0004_0001</th>\n",
       "      <th>q0004_0002</th>\n",
       "      <th>q0004_0003</th>\n",
       "      <th>q0004_0004</th>\n",
       "      <th>q0004_0005</th>\n",
       "      <th>...</th>\n",
       "      <th>q0035</th>\n",
       "      <th>q0036</th>\n",
       "      <th>race2</th>\n",
       "      <th>racethn4</th>\n",
       "      <th>educ3</th>\n",
       "      <th>educ4</th>\n",
       "      <th>age3</th>\n",
       "      <th>kids</th>\n",
       "      <th>orientation</th>\n",
       "      <th>weight</th>\n",
       "    </tr>\n",
       "  </thead>\n",
       "  <tbody>\n",
       "    <tr>\n",
       "      <th>0</th>\n",
       "      <td>1</td>\n",
       "      <td>5/10/18 4:01</td>\n",
       "      <td>5/10/18 4:06</td>\n",
       "      <td>Somewhat masculine</td>\n",
       "      <td>Somewhat important</td>\n",
       "      <td>Not selected</td>\n",
       "      <td>Not selected</td>\n",
       "      <td>Not selected</td>\n",
       "      <td>Pop culture</td>\n",
       "      <td>Not selected</td>\n",
       "      <td>...</td>\n",
       "      <td>Middle Atlantic</td>\n",
       "      <td>Windows Desktop / Laptop</td>\n",
       "      <td>Non-white</td>\n",
       "      <td>Hispanic</td>\n",
       "      <td>College or more</td>\n",
       "      <td>College or more</td>\n",
       "      <td>35 - 64</td>\n",
       "      <td>No children</td>\n",
       "      <td>Gay/Bisexual</td>\n",
       "      <td>1.714026</td>\n",
       "    </tr>\n",
       "    <tr>\n",
       "      <th>1</th>\n",
       "      <td>2</td>\n",
       "      <td>5/10/18 6:30</td>\n",
       "      <td>5/10/18 6:53</td>\n",
       "      <td>Somewhat masculine</td>\n",
       "      <td>Somewhat important</td>\n",
       "      <td>Father or father figure(s)</td>\n",
       "      <td>Not selected</td>\n",
       "      <td>Not selected</td>\n",
       "      <td>Not selected</td>\n",
       "      <td>Not selected</td>\n",
       "      <td>...</td>\n",
       "      <td>East North Central</td>\n",
       "      <td>iOS Phone / Tablet</td>\n",
       "      <td>White</td>\n",
       "      <td>White</td>\n",
       "      <td>Some college</td>\n",
       "      <td>Some college</td>\n",
       "      <td>65 and up</td>\n",
       "      <td>Has children</td>\n",
       "      <td>Straight</td>\n",
       "      <td>1.247120</td>\n",
       "    </tr>\n",
       "    <tr>\n",
       "      <th>2</th>\n",
       "      <td>3</td>\n",
       "      <td>5/10/18 7:02</td>\n",
       "      <td>5/10/18 7:09</td>\n",
       "      <td>Very masculine</td>\n",
       "      <td>Not too important</td>\n",
       "      <td>Father or father figure(s)</td>\n",
       "      <td>Not selected</td>\n",
       "      <td>Not selected</td>\n",
       "      <td>Not selected</td>\n",
       "      <td>Not selected</td>\n",
       "      <td>...</td>\n",
       "      <td>East North Central</td>\n",
       "      <td>Windows Desktop / Laptop</td>\n",
       "      <td>White</td>\n",
       "      <td>White</td>\n",
       "      <td>College or more</td>\n",
       "      <td>College or more</td>\n",
       "      <td>35 - 64</td>\n",
       "      <td>Has children</td>\n",
       "      <td>Straight</td>\n",
       "      <td>0.515746</td>\n",
       "    </tr>\n",
       "    <tr>\n",
       "      <th>3</th>\n",
       "      <td>4</td>\n",
       "      <td>5/10/18 7:27</td>\n",
       "      <td>5/10/18 7:31</td>\n",
       "      <td>Very masculine</td>\n",
       "      <td>Not too important</td>\n",
       "      <td>Father or father figure(s)</td>\n",
       "      <td>Mother or mother figure(s)</td>\n",
       "      <td>Other family members</td>\n",
       "      <td>Not selected</td>\n",
       "      <td>Not selected</td>\n",
       "      <td>...</td>\n",
       "      <td>East North Central</td>\n",
       "      <td>Windows Desktop / Laptop</td>\n",
       "      <td>White</td>\n",
       "      <td>White</td>\n",
       "      <td>Some college</td>\n",
       "      <td>Some college</td>\n",
       "      <td>65 and up</td>\n",
       "      <td>Has children</td>\n",
       "      <td>No answer</td>\n",
       "      <td>0.600640</td>\n",
       "    </tr>\n",
       "    <tr>\n",
       "      <th>4</th>\n",
       "      <td>5</td>\n",
       "      <td>5/10/18 7:35</td>\n",
       "      <td>5/10/18 7:42</td>\n",
       "      <td>Very masculine</td>\n",
       "      <td>Very important</td>\n",
       "      <td>Not selected</td>\n",
       "      <td>Not selected</td>\n",
       "      <td>Other family members</td>\n",
       "      <td>Not selected</td>\n",
       "      <td>Not selected</td>\n",
       "      <td>...</td>\n",
       "      <td>East North Central</td>\n",
       "      <td>Windows Desktop / Laptop</td>\n",
       "      <td>White</td>\n",
       "      <td>White</td>\n",
       "      <td>College or more</td>\n",
       "      <td>College or more</td>\n",
       "      <td>35 - 64</td>\n",
       "      <td>No children</td>\n",
       "      <td>Straight</td>\n",
       "      <td>1.033400</td>\n",
       "    </tr>\n",
       "  </tbody>\n",
       "</table>\n",
       "<p>5 rows × 98 columns</p>\n",
       "</div>"
      ],
      "text/plain": [
       "   Unnamed: 0     StartDate       EndDate               q0001  \\\n",
       "0           1  5/10/18 4:01  5/10/18 4:06  Somewhat masculine   \n",
       "1           2  5/10/18 6:30  5/10/18 6:53  Somewhat masculine   \n",
       "2           3  5/10/18 7:02  5/10/18 7:09      Very masculine   \n",
       "3           4  5/10/18 7:27  5/10/18 7:31      Very masculine   \n",
       "4           5  5/10/18 7:35  5/10/18 7:42      Very masculine   \n",
       "\n",
       "                q0002                  q0004_0001                  q0004_0002  \\\n",
       "0  Somewhat important                Not selected                Not selected   \n",
       "1  Somewhat important  Father or father figure(s)                Not selected   \n",
       "2   Not too important  Father or father figure(s)                Not selected   \n",
       "3   Not too important  Father or father figure(s)  Mother or mother figure(s)   \n",
       "4      Very important                Not selected                Not selected   \n",
       "\n",
       "             q0004_0003    q0004_0004    q0004_0005    ...     \\\n",
       "0          Not selected   Pop culture  Not selected    ...      \n",
       "1          Not selected  Not selected  Not selected    ...      \n",
       "2          Not selected  Not selected  Not selected    ...      \n",
       "3  Other family members  Not selected  Not selected    ...      \n",
       "4  Other family members  Not selected  Not selected    ...      \n",
       "\n",
       "                q0035                     q0036      race2  racethn4  \\\n",
       "0     Middle Atlantic  Windows Desktop / Laptop  Non-white  Hispanic   \n",
       "1  East North Central        iOS Phone / Tablet      White     White   \n",
       "2  East North Central  Windows Desktop / Laptop      White     White   \n",
       "3  East North Central  Windows Desktop / Laptop      White     White   \n",
       "4  East North Central  Windows Desktop / Laptop      White     White   \n",
       "\n",
       "             educ3            educ4       age3          kids   orientation  \\\n",
       "0  College or more  College or more    35 - 64   No children  Gay/Bisexual   \n",
       "1     Some college     Some college  65 and up  Has children      Straight   \n",
       "2  College or more  College or more    35 - 64  Has children      Straight   \n",
       "3     Some college     Some college  65 and up  Has children     No answer   \n",
       "4  College or more  College or more    35 - 64   No children      Straight   \n",
       "\n",
       "     weight  \n",
       "0  1.714026  \n",
       "1  1.247120  \n",
       "2  0.515746  \n",
       "3  0.600640  \n",
       "4  1.033400  \n",
       "\n",
       "[5 rows x 98 columns]"
      ]
     },
     "execution_count": 1,
     "metadata": {},
     "output_type": "execute_result"
    }
   ],
   "source": [
    "import pandas as pd\n",
    "import matplotlib.pyplot as plot\n",
    "\n",
    "raw_data = pd.read_csv(\"data/fivethirtyeight-masculinity-survey-dataset/raw-responses.csv\")\n",
    "\n",
    "raw_data.head(5)"
   ]
  },
  {
   "cell_type": "markdown",
   "metadata": {},
   "source": [
    "### **Exploratory Data Analysis**\n",
    "\n",
    "In this section of analysis, we are looking for correlations between the questions asked in the survey and people's perceived masculinity levels. In order to achieve this, we create a series of graphs showing correlation and compute the correlation coefficients and then run a decision tree and regression model on test data to see if we can predict how masculine people feel based on their answers to certain questions."
   ]
  },
  {
   "cell_type": "markdown",
   "metadata": {},
   "source": [
    "#### Masculinity vs. Importance Plot\n",
    "In this first plot we wanted to see how many people considered themselves \"very masculine\", \"somewhat masculine\", \"not very masculine\", \"not at all masculine\" and those that gave no answer. This gives us a general idea of what men think of themselves in terms of their own masculinity. "
   ]
  },
  {
   "cell_type": "code",
   "execution_count": 2,
   "metadata": {},
   "outputs": [
    {
     "name": "stdout",
     "output_type": "stream",
     "text": [
      "['Very masculine', 'Somewhat masculine', 'Not very masculine', 'Not at all masculine', 'No answer']\n"
     ]
    },
    {
     "data": {
      "image/png": "[encoded data removed]",
      "text/plain": [
       "<Figure size 1440x720 with 1 Axes>"
      ]
     },
     "metadata": {},
     "output_type": "display_data"
    }
   ],
   "source": [
    "x = raw_data['q0001'].value_counts()\n",
    "keys = list(x.keys())\n",
    "keys.insert(0, keys.pop(1))\n",
    "\n",
    "print(keys)\n",
    "\n",
    "plot.figure(figsize = (20, 10))\n",
    "plot.bar(keys, [x[k] for k in keys])\n",
    "plot.xlabel('Reported Masculinity')\n",
    "plot.ylabel('Number of Respondents')\n",
    "plot.title('Self Reported Masculinity Distribution (Q1)')\n",
    "plot.show()"
   ]
  },
  {
   "cell_type": "markdown",
   "metadata": {},
   "source": [
    "**Results:** From this graph, it is evident that most men who took this survey believe that they are somewhat masculine, with approximately 800 men giving this answer, while the second most popular category was very masculine with approximately 600 men giving this answer. This data shows that most men consider themselves on the higher end of the masculinity scale."
   ]
  },
  {
   "cell_type": "markdown",
   "metadata": {},
   "source": [
    "### **Tidying the Data**\n",
    "\n",
    "In order to do further analysis on the data and to find the correlations between the certain questions asked in the survey, we needed to tidy our data into a numerical or boolean type. For questions 1, 2, and all parts of 7, we assigned an integer corresponding to the scaled strength of the option given. For example, Question 7 would range from 'Never, and not open to it' to 'Often' thus would assign those values of 1 to 5 respectively and None to 'No answer', as not to contribute those terms to regression or classification by dropping rows that contain them. For all parts of questions 8 and 20, we tidied the data by giving \"not selected\" False values and everything else True values."
   ]
  },
  {
   "cell_type": "code",
   "execution_count": 3,
   "metadata": {},
   "outputs": [
    {
     "data": {
      "text/html": [
       "<div>\n",
       "<style scoped>\n",
       "    .dataframe tbody tr th:only-of-type {\n",
       "        vertical-align: middle;\n",
       "    }\n",
       "\n",
       "    .dataframe tbody tr th {\n",
       "        vertical-align: top;\n",
       "    }\n",
       "\n",
       "    .dataframe thead th {\n",
       "        text-align: right;\n",
       "    }\n",
       "</style>\n",
       "<table border=\"1\" class=\"dataframe\">\n",
       "  <thead>\n",
       "    <tr style=\"text-align: right;\">\n",
       "      <th></th>\n",
       "      <th>Unnamed: 0</th>\n",
       "      <th>StartDate</th>\n",
       "      <th>EndDate</th>\n",
       "      <th>q0001</th>\n",
       "      <th>q0002</th>\n",
       "      <th>q0004_0001</th>\n",
       "      <th>q0004_0002</th>\n",
       "      <th>q0004_0003</th>\n",
       "      <th>q0004_0004</th>\n",
       "      <th>q0004_0005</th>\n",
       "      <th>...</th>\n",
       "      <th>q0035</th>\n",
       "      <th>q0036</th>\n",
       "      <th>race2</th>\n",
       "      <th>racethn4</th>\n",
       "      <th>educ3</th>\n",
       "      <th>educ4</th>\n",
       "      <th>age3</th>\n",
       "      <th>kids</th>\n",
       "      <th>orientation</th>\n",
       "      <th>weight</th>\n",
       "    </tr>\n",
       "  </thead>\n",
       "  <tbody>\n",
       "    <tr>\n",
       "      <th>0</th>\n",
       "      <td>1</td>\n",
       "      <td>5/10/18 4:01</td>\n",
       "      <td>5/10/18 4:06</td>\n",
       "      <td>3</td>\n",
       "      <td>3</td>\n",
       "      <td>Not selected</td>\n",
       "      <td>Not selected</td>\n",
       "      <td>Not selected</td>\n",
       "      <td>Pop culture</td>\n",
       "      <td>Not selected</td>\n",
       "      <td>...</td>\n",
       "      <td>Middle Atlantic</td>\n",
       "      <td>Windows Desktop / Laptop</td>\n",
       "      <td>Non-white</td>\n",
       "      <td>Hispanic</td>\n",
       "      <td>College or more</td>\n",
       "      <td>College or more</td>\n",
       "      <td>35 - 64</td>\n",
       "      <td>No children</td>\n",
       "      <td>Gay/Bisexual</td>\n",
       "      <td>1.714026</td>\n",
       "    </tr>\n",
       "    <tr>\n",
       "      <th>1</th>\n",
       "      <td>2</td>\n",
       "      <td>5/10/18 6:30</td>\n",
       "      <td>5/10/18 6:53</td>\n",
       "      <td>3</td>\n",
       "      <td>3</td>\n",
       "      <td>Father or father figure(s)</td>\n",
       "      <td>Not selected</td>\n",
       "      <td>Not selected</td>\n",
       "      <td>Not selected</td>\n",
       "      <td>Not selected</td>\n",
       "      <td>...</td>\n",
       "      <td>East North Central</td>\n",
       "      <td>iOS Phone / Tablet</td>\n",
       "      <td>White</td>\n",
       "      <td>White</td>\n",
       "      <td>Some college</td>\n",
       "      <td>Some college</td>\n",
       "      <td>65 and up</td>\n",
       "      <td>Has children</td>\n",
       "      <td>Straight</td>\n",
       "      <td>1.247120</td>\n",
       "    </tr>\n",
       "    <tr>\n",
       "      <th>2</th>\n",
       "      <td>3</td>\n",
       "      <td>5/10/18 7:02</td>\n",
       "      <td>5/10/18 7:09</td>\n",
       "      <td>4</td>\n",
       "      <td>2</td>\n",
       "      <td>Father or father figure(s)</td>\n",
       "      <td>Not selected</td>\n",
       "      <td>Not selected</td>\n",
       "      <td>Not selected</td>\n",
       "      <td>Not selected</td>\n",
       "      <td>...</td>\n",
       "      <td>East North Central</td>\n",
       "      <td>Windows Desktop / Laptop</td>\n",
       "      <td>White</td>\n",
       "      <td>White</td>\n",
       "      <td>College or more</td>\n",
       "      <td>College or more</td>\n",
       "      <td>35 - 64</td>\n",
       "      <td>Has children</td>\n",
       "      <td>Straight</td>\n",
       "      <td>0.515746</td>\n",
       "    </tr>\n",
       "    <tr>\n",
       "      <th>3</th>\n",
       "      <td>4</td>\n",
       "      <td>5/10/18 7:27</td>\n",
       "      <td>5/10/18 7:31</td>\n",
       "      <td>4</td>\n",
       "      <td>2</td>\n",
       "      <td>Father or father figure(s)</td>\n",
       "      <td>Mother or mother figure(s)</td>\n",
       "      <td>Other family members</td>\n",
       "      <td>Not selected</td>\n",
       "      <td>Not selected</td>\n",
       "      <td>...</td>\n",
       "      <td>East North Central</td>\n",
       "      <td>Windows Desktop / Laptop</td>\n",
       "      <td>White</td>\n",
       "      <td>White</td>\n",
       "      <td>Some college</td>\n",
       "      <td>Some college</td>\n",
       "      <td>65 and up</td>\n",
       "      <td>Has children</td>\n",
       "      <td>No answer</td>\n",
       "      <td>0.600640</td>\n",
       "    </tr>\n",
       "    <tr>\n",
       "      <th>4</th>\n",
       "      <td>5</td>\n",
       "      <td>5/10/18 7:35</td>\n",
       "      <td>5/10/18 7:42</td>\n",
       "      <td>4</td>\n",
       "      <td>4</td>\n",
       "      <td>Not selected</td>\n",
       "      <td>Not selected</td>\n",
       "      <td>Other family members</td>\n",
       "      <td>Not selected</td>\n",
       "      <td>Not selected</td>\n",
       "      <td>...</td>\n",
       "      <td>East North Central</td>\n",
       "      <td>Windows Desktop / Laptop</td>\n",
       "      <td>White</td>\n",
       "      <td>White</td>\n",
       "      <td>College or more</td>\n",
       "      <td>College or more</td>\n",
       "      <td>35 - 64</td>\n",
       "      <td>No children</td>\n",
       "      <td>Straight</td>\n",
       "      <td>1.033400</td>\n",
       "    </tr>\n",
       "  </tbody>\n",
       "</table>\n",
       "<p>5 rows × 98 columns</p>\n",
       "</div>"
      ],
      "text/plain": [
       "   Unnamed: 0     StartDate       EndDate q0001 q0002  \\\n",
       "0           1  5/10/18 4:01  5/10/18 4:06     3     3   \n",
       "1           2  5/10/18 6:30  5/10/18 6:53     3     3   \n",
       "2           3  5/10/18 7:02  5/10/18 7:09     4     2   \n",
       "3           4  5/10/18 7:27  5/10/18 7:31     4     2   \n",
       "4           5  5/10/18 7:35  5/10/18 7:42     4     4   \n",
       "\n",
       "                   q0004_0001                  q0004_0002  \\\n",
       "0                Not selected                Not selected   \n",
       "1  Father or father figure(s)                Not selected   \n",
       "2  Father or father figure(s)                Not selected   \n",
       "3  Father or father figure(s)  Mother or mother figure(s)   \n",
       "4                Not selected                Not selected   \n",
       "\n",
       "             q0004_0003    q0004_0004    q0004_0005    ...     \\\n",
       "0          Not selected   Pop culture  Not selected    ...      \n",
       "1          Not selected  Not selected  Not selected    ...      \n",
       "2          Not selected  Not selected  Not selected    ...      \n",
       "3  Other family members  Not selected  Not selected    ...      \n",
       "4  Other family members  Not selected  Not selected    ...      \n",
       "\n",
       "                q0035                     q0036      race2  racethn4  \\\n",
       "0     Middle Atlantic  Windows Desktop / Laptop  Non-white  Hispanic   \n",
       "1  East North Central        iOS Phone / Tablet      White     White   \n",
       "2  East North Central  Windows Desktop / Laptop      White     White   \n",
       "3  East North Central  Windows Desktop / Laptop      White     White   \n",
       "4  East North Central  Windows Desktop / Laptop      White     White   \n",
       "\n",
       "             educ3            educ4       age3          kids   orientation  \\\n",
       "0  College or more  College or more    35 - 64   No children  Gay/Bisexual   \n",
       "1     Some college     Some college  65 and up  Has children      Straight   \n",
       "2  College or more  College or more    35 - 64  Has children      Straight   \n",
       "3     Some college     Some college  65 and up  Has children     No answer   \n",
       "4  College or more  College or more    35 - 64   No children      Straight   \n",
       "\n",
       "     weight  \n",
       "0  1.714026  \n",
       "1  1.247120  \n",
       "2  0.515746  \n",
       "3  0.600640  \n",
       "4  1.033400  \n",
       "\n",
       "[5 rows x 98 columns]"
      ]
     },
     "execution_count": 3,
     "metadata": {},
     "output_type": "execute_result"
    }
   ],
   "source": [
    "q1_answers = list(raw_data['q0001'].unique())\n",
    "q1_answers.insert(0, q1_answers.pop(1))\n",
    "q1_answers.insert(2, q1_answers.pop(3))\n",
    "q1_answers.reverse()\n",
    "q2_answers = list(raw_data['q0002'].unique())\n",
    "q2_answers.insert(0, q2_answers.pop(2))\n",
    "q2_answers.reverse()\n",
    "q7_answers = list(raw_data['q0007_0001'].unique())\n",
    "q7_answers.insert(1, q7_answers.pop(2))\n",
    "q7_answers.reverse()\n",
    "\n",
    "scrub_data = raw_data.copy()\n",
    "\n",
    "for index1, row in raw_data.iterrows():\n",
    "    if row['q0001'] != 'No answer':\n",
    "        scrub_data.loc[index1, 'q0001'] = int(q1_answers.index(row['q0001'])) \n",
    "    else:\n",
    "        scrub_data.loc[index1, 'q0001'] = None\n",
    "    if row['q0002'] != 'No answer':\n",
    "        scrub_data.loc[index1, 'q0002'] = int(q2_answers.index(row['q0002'])) \n",
    "    else:\n",
    "        scrub_data.loc[index1, 'q0002'] = None\n",
    "    for index2, val in row['q0007_0001':'q0007_0011'].iteritems():\n",
    "        if val != 'No answer':\n",
    "            scrub_data.loc[index1, index2] = int(q7_answers.index(val))\n",
    "        else:\n",
    "            scrub_data.loc[index1, index2] = None\n",
    "    for index2, val in row['q0008_0001':'q0008_0012'].iteritems():\n",
    "        if val == 'Not selected':\n",
    "            scrub_data.loc[index1, index2] = False\n",
    "        else:\n",
    "            scrub_data.loc[index1, index2] = True\n",
    "    for index2, val in row['q0020_0001':'q0020_0006'].iteritems():\n",
    "        if val == 'Not selected':\n",
    "            scrub_data.loc[index1, index2] = False\n",
    "        else:\n",
    "            scrub_data.loc[index1, index2] = True\n",
    "\n",
    "q1_answers = pd.Series(q1_answers)\n",
    "q2_answers = pd.Series(q2_answers)\n",
    "q7_answers = pd.Series(q7_answers)\n",
    "\n",
    "scrub_data.head(5)"
   ]
  },
  {
   "cell_type": "markdown",
   "metadata": {},
   "source": [
    "### **Exploratory Data Analysis (cont.)**\n",
    "\n",
    "#### Masculinity Vs. Importance Plot\n",
    "\n",
    "We then created a 2D histogram, similar to a heat map, to find out if how important people think it is that others see them as masculine is correlated to how masculine they feel. The lighter colors correspond to a higher response rate and the darker colors to lower response rates. We created this graph through the matplotlib library in Python. For reference, here is the text of question one and two from the survey:\n",
    "\n",
    "> **1. In genereal how masculine do you feel?**\n",
    "> * Very masculine\n",
    "> * Somewhat masculine \n",
    "> * Not very masculine \n",
    "> * Not at all masculine\n",
    "\n",
    "> **2. How important is it that others see you as masculine?** \n",
    "> * Very important\n",
    "> * Somewhat important\n",
    "> * Not too important\n",
    "> * Not at all important\n",
    "\n",
    "We also are removing non answer values as those make a correlation slightly messier to interpret."
   ]
  },
  {
   "cell_type": "code",
   "execution_count": 4,
   "metadata": {},
   "outputs": [
    {
     "data": {
      "image/png": "[encoded data removed]",
      "text/plain": [
       "<Figure size 1440x720 with 2 Axes>"
      ]
     },
     "metadata": {},
     "output_type": "display_data"
    }
   ],
   "source": [
    "plot.figure(figsize = (20, 10))\n",
    "hist_data = scrub_data[['q0001', 'q0002']].copy().dropna().astype(int)\n",
    "hist, xval, yval, _ = plot.hist2d(hist_data['q0001'], hist_data['q0002'], bins = (4, 4), range = ((0.5, 4.5), (0.5, 4.5)))\n",
    "for i in range(len(xval)-1):\n",
    "    for j in range(len(yval)-1):\n",
    "        plot.annotate(hist[i][j], (xval[i], yval[j]), xytext = (xval[i] + 0.42, yval[j] + 0.45))\n",
    "plot.colorbar()\n",
    "plot.xlabel('Masculinity Score')\n",
    "plot.ylabel('Importance Score')\n",
    "plot.title('Masculinty vs. Importance')\n",
    "plot.show()"
   ]
  },
  {
   "cell_type": "markdown",
   "metadata": {},
   "source": [
    "**Results:** This graph shows that high masculinity scores appear correlated with a high importance score, allowing us to conclude that importance of being seen as masculine is an important attribute to those who consider themselves masculine. "
   ]
  },
  {
   "cell_type": "markdown",
   "metadata": {},
   "source": [
    "#### Masculinity Vs. Importance Correlation\n",
    "\n",
    "In order to find out the general correlation between masculinity and importance of masculinity, we computed the correlation coefficient utilizing pandas corr function. The result shows a positive score which indicates that the two attributes are positively correlated meaning that they are related. However, this score is not as high as we thought it would be from the histogram above, since the result was <.5, but correlation values range from -1 to +1. Therefore, we conclude that importance of masculinity somewhat affects how masculine men perceive themselves, but is not the strongest attribute of masculinity."
   ]
  },
  {
   "cell_type": "code",
   "execution_count": 5,
   "metadata": {},
   "outputs": [
    {
     "name": "stdout",
     "output_type": "stream",
     "text": [
      "Masculinity/Importance Correllation = 0.24\n"
     ]
    }
   ],
   "source": [
    "mi_corr = hist_data[['q0001', 'q0002']].corr('pearson')\n",
    "\n",
    "print('Masculinity/Importance Correllation = {:1.2f}'.format(mi_corr.loc['q0001', 'q0002']))"
   ]
  },
  {
   "cell_type": "markdown",
   "metadata": {},
   "source": [
    "#### Pairwise correlation of answers in Question 7\n",
    "\n",
    "To discover which actions that masculine men frequently (or infrequently) take and how they correllate to other actions, we wanted to run a statistical correlation analysis on pairs of actions reported in question 7. From this we can see group trends of actions and gain some insight into what typical men do often relative to other actions. Question 7 reads as follows:\n",
    "\n",
    "> **7. How often would you say you do each of the following? *Select from: (Often; Sometimes; Rarely; Never, but open to it; Never, and not open to it)*** (RANDOMIZE)\n",
    "> * Ask a friend for professional advice\n",
    "> * Ask a friend for personal advice\n",
    "> * Express physical affection towards male friends, like hugging, rubbing shoulders\n",
    "> * Cry\n",
    "> * Get in a physical fight with another person\n",
    "> * Have sexual relations with women, including anything from kissing to sex\n",
    "> * Have sexual relations with men, including anything from kissing to sex\n",
    "> * Watch sports of any kind\n",
    "> * Work out\n",
    "> * See a therapist\n",
    "> * Feel lonely or isolated\n",
    "\n",
    "These values were returned in a dataframe so that it would be easy and neat to visualize and so we would be able to plot out this data to better see the correlations."
   ]
  },
  {
   "cell_type": "code",
   "execution_count": 6,
   "metadata": {},
   "outputs": [
    {
     "data": {
      "text/html": [
       "<div>\n",
       "<style scoped>\n",
       "    .dataframe tbody tr th:only-of-type {\n",
       "        vertical-align: middle;\n",
       "    }\n",
       "\n",
       "    .dataframe tbody tr th {\n",
       "        vertical-align: top;\n",
       "    }\n",
       "\n",
       "    .dataframe thead th {\n",
       "        text-align: right;\n",
       "    }\n",
       "</style>\n",
       "<table border=\"1\" class=\"dataframe\">\n",
       "  <thead>\n",
       "    <tr style=\"text-align: right;\">\n",
       "      <th></th>\n",
       "      <th>q0007_0001</th>\n",
       "      <th>q0007_0002</th>\n",
       "      <th>q0007_0003</th>\n",
       "      <th>q0007_0004</th>\n",
       "      <th>q0007_0005</th>\n",
       "      <th>q0007_0006</th>\n",
       "      <th>q0007_0007</th>\n",
       "      <th>q0007_0008</th>\n",
       "      <th>q0007_0009</th>\n",
       "      <th>q0007_0010</th>\n",
       "      <th>q0007_0011</th>\n",
       "    </tr>\n",
       "  </thead>\n",
       "  <tbody>\n",
       "    <tr>\n",
       "      <th>q0007_0001</th>\n",
       "      <td>1.000000</td>\n",
       "      <td>0.690267</td>\n",
       "      <td>0.322235</td>\n",
       "      <td>0.280567</td>\n",
       "      <td>0.087429</td>\n",
       "      <td>0.103299</td>\n",
       "      <td>0.092498</td>\n",
       "      <td>0.131216</td>\n",
       "      <td>0.225550</td>\n",
       "      <td>0.217229</td>\n",
       "      <td>0.164769</td>\n",
       "    </tr>\n",
       "    <tr>\n",
       "      <th>q0007_0002</th>\n",
       "      <td>0.690267</td>\n",
       "      <td>1.000000</td>\n",
       "      <td>0.383926</td>\n",
       "      <td>0.312377</td>\n",
       "      <td>0.070802</td>\n",
       "      <td>0.084555</td>\n",
       "      <td>0.133620</td>\n",
       "      <td>0.100669</td>\n",
       "      <td>0.206604</td>\n",
       "      <td>0.265998</td>\n",
       "      <td>0.194277</td>\n",
       "    </tr>\n",
       "    <tr>\n",
       "      <th>q0007_0003</th>\n",
       "      <td>0.322235</td>\n",
       "      <td>0.383926</td>\n",
       "      <td>1.000000</td>\n",
       "      <td>0.346979</td>\n",
       "      <td>0.007363</td>\n",
       "      <td>-0.059686</td>\n",
       "      <td>0.285940</td>\n",
       "      <td>0.009289</td>\n",
       "      <td>0.131119</td>\n",
       "      <td>0.223506</td>\n",
       "      <td>0.128829</td>\n",
       "    </tr>\n",
       "    <tr>\n",
       "      <th>q0007_0004</th>\n",
       "      <td>0.280567</td>\n",
       "      <td>0.312377</td>\n",
       "      <td>0.346979</td>\n",
       "      <td>1.000000</td>\n",
       "      <td>0.038317</td>\n",
       "      <td>-0.035428</td>\n",
       "      <td>0.178914</td>\n",
       "      <td>0.006136</td>\n",
       "      <td>0.060209</td>\n",
       "      <td>0.270849</td>\n",
       "      <td>0.242495</td>\n",
       "    </tr>\n",
       "    <tr>\n",
       "      <th>q0007_0005</th>\n",
       "      <td>0.087429</td>\n",
       "      <td>0.070802</td>\n",
       "      <td>0.007363</td>\n",
       "      <td>0.038317</td>\n",
       "      <td>1.000000</td>\n",
       "      <td>0.114237</td>\n",
       "      <td>0.008492</td>\n",
       "      <td>0.062825</td>\n",
       "      <td>0.095035</td>\n",
       "      <td>0.037495</td>\n",
       "      <td>0.080281</td>\n",
       "    </tr>\n",
       "    <tr>\n",
       "      <th>q0007_0006</th>\n",
       "      <td>0.103299</td>\n",
       "      <td>0.084555</td>\n",
       "      <td>-0.059686</td>\n",
       "      <td>-0.035428</td>\n",
       "      <td>0.114237</td>\n",
       "      <td>1.000000</td>\n",
       "      <td>-0.420896</td>\n",
       "      <td>0.241577</td>\n",
       "      <td>0.213098</td>\n",
       "      <td>-0.021627</td>\n",
       "      <td>-0.100393</td>\n",
       "    </tr>\n",
       "    <tr>\n",
       "      <th>q0007_0007</th>\n",
       "      <td>0.092498</td>\n",
       "      <td>0.133620</td>\n",
       "      <td>0.285940</td>\n",
       "      <td>0.178914</td>\n",
       "      <td>0.008492</td>\n",
       "      <td>-0.420896</td>\n",
       "      <td>1.000000</td>\n",
       "      <td>-0.202926</td>\n",
       "      <td>-0.076485</td>\n",
       "      <td>0.124381</td>\n",
       "      <td>0.135594</td>\n",
       "    </tr>\n",
       "    <tr>\n",
       "      <th>q0007_0008</th>\n",
       "      <td>0.131216</td>\n",
       "      <td>0.100669</td>\n",
       "      <td>0.009289</td>\n",
       "      <td>0.006136</td>\n",
       "      <td>0.062825</td>\n",
       "      <td>0.241577</td>\n",
       "      <td>-0.202926</td>\n",
       "      <td>1.000000</td>\n",
       "      <td>0.258912</td>\n",
       "      <td>-0.042129</td>\n",
       "      <td>-0.017395</td>\n",
       "    </tr>\n",
       "    <tr>\n",
       "      <th>q0007_0009</th>\n",
       "      <td>0.225550</td>\n",
       "      <td>0.206604</td>\n",
       "      <td>0.131119</td>\n",
       "      <td>0.060209</td>\n",
       "      <td>0.095035</td>\n",
       "      <td>0.213098</td>\n",
       "      <td>-0.076485</td>\n",
       "      <td>0.258912</td>\n",
       "      <td>1.000000</td>\n",
       "      <td>0.069122</td>\n",
       "      <td>0.029556</td>\n",
       "    </tr>\n",
       "    <tr>\n",
       "      <th>q0007_0010</th>\n",
       "      <td>0.217229</td>\n",
       "      <td>0.265998</td>\n",
       "      <td>0.223506</td>\n",
       "      <td>0.270849</td>\n",
       "      <td>0.037495</td>\n",
       "      <td>-0.021627</td>\n",
       "      <td>0.124381</td>\n",
       "      <td>-0.042129</td>\n",
       "      <td>0.069122</td>\n",
       "      <td>1.000000</td>\n",
       "      <td>0.346332</td>\n",
       "    </tr>\n",
       "    <tr>\n",
       "      <th>q0007_0011</th>\n",
       "      <td>0.164769</td>\n",
       "      <td>0.194277</td>\n",
       "      <td>0.128829</td>\n",
       "      <td>0.242495</td>\n",
       "      <td>0.080281</td>\n",
       "      <td>-0.100393</td>\n",
       "      <td>0.135594</td>\n",
       "      <td>-0.017395</td>\n",
       "      <td>0.029556</td>\n",
       "      <td>0.346332</td>\n",
       "      <td>1.000000</td>\n",
       "    </tr>\n",
       "  </tbody>\n",
       "</table>\n",
       "</div>"
      ],
      "text/plain": [
       "            q0007_0001  q0007_0002  q0007_0003  q0007_0004  q0007_0005  \\\n",
       "q0007_0001    1.000000    0.690267    0.322235    0.280567    0.087429   \n",
       "q0007_0002    0.690267    1.000000    0.383926    0.312377    0.070802   \n",
       "q0007_0003    0.322235    0.383926    1.000000    0.346979    0.007363   \n",
       "q0007_0004    0.280567    0.312377    0.346979    1.000000    0.038317   \n",
       "q0007_0005    0.087429    0.070802    0.007363    0.038317    1.000000   \n",
       "q0007_0006    0.103299    0.084555   -0.059686   -0.035428    0.114237   \n",
       "q0007_0007    0.092498    0.133620    0.285940    0.178914    0.008492   \n",
       "q0007_0008    0.131216    0.100669    0.009289    0.006136    0.062825   \n",
       "q0007_0009    0.225550    0.206604    0.131119    0.060209    0.095035   \n",
       "q0007_0010    0.217229    0.265998    0.223506    0.270849    0.037495   \n",
       "q0007_0011    0.164769    0.194277    0.128829    0.242495    0.080281   \n",
       "\n",
       "            q0007_0006  q0007_0007  q0007_0008  q0007_0009  q0007_0010  \\\n",
       "q0007_0001    0.103299    0.092498    0.131216    0.225550    0.217229   \n",
       "q0007_0002    0.084555    0.133620    0.100669    0.206604    0.265998   \n",
       "q0007_0003   -0.059686    0.285940    0.009289    0.131119    0.223506   \n",
       "q0007_0004   -0.035428    0.178914    0.006136    0.060209    0.270849   \n",
       "q0007_0005    0.114237    0.008492    0.062825    0.095035    0.037495   \n",
       "q0007_0006    1.000000   -0.420896    0.241577    0.213098   -0.021627   \n",
       "q0007_0007   -0.420896    1.000000   -0.202926   -0.076485    0.124381   \n",
       "q0007_0008    0.241577   -0.202926    1.000000    0.258912   -0.042129   \n",
       "q0007_0009    0.213098   -0.076485    0.258912    1.000000    0.069122   \n",
       "q0007_0010   -0.021627    0.124381   -0.042129    0.069122    1.000000   \n",
       "q0007_0011   -0.100393    0.135594   -0.017395    0.029556    0.346332   \n",
       "\n",
       "            q0007_0011  \n",
       "q0007_0001    0.164769  \n",
       "q0007_0002    0.194277  \n",
       "q0007_0003    0.128829  \n",
       "q0007_0004    0.242495  \n",
       "q0007_0005    0.080281  \n",
       "q0007_0006   -0.100393  \n",
       "q0007_0007    0.135594  \n",
       "q0007_0008   -0.017395  \n",
       "q0007_0009    0.029556  \n",
       "q0007_0010    0.346332  \n",
       "q0007_0011    1.000000  "
      ]
     },
     "execution_count": 6,
     "metadata": {},
     "output_type": "execute_result"
    }
   ],
   "source": [
    "q7_data = scrub_data[['q0007_0001', 'q0007_0002', 'q0007_0003', 'q0007_0004', \n",
    "                      'q0007_0005', 'q0007_0006', 'q0007_0007', 'q0007_0008', \n",
    "                      'q0007_0009', 'q0007_0010', 'q0007_0011']].dropna().astype(int)\n",
    "q7_corr = q7_data.corr('pearson')\n",
    "\n",
    "q7_corr"
   ]
  },
  {
   "cell_type": "markdown",
   "metadata": {},
   "source": [
    "**Results:** It is actually harder to gain insight from each question's correlation value from this dataframe than we had originally anticipated. Because of this, we decided to plot out all of the values to make it visually easier to detect trends in the data."
   ]
  },
  {
   "cell_type": "markdown",
   "metadata": {},
   "source": [
    "#### Correlation Heat Map\n",
    "\n",
    "The answer - another heat map! We used the seaborn library, which allows for the creation of colorful plots from pandas dataframes. More information about seaborn can be found here - https://seaborn.pydata.org/. Seaborn has a heatmap function, which allowed us to easily use the dataframe above to show which questions are more correlated with each other. The lighter colors correspond to greater correlation values, while the darker colors indicate less of a correlation. The black color corresponds to a negative correlation, which means that these two attributes are not at all related."
   ]
  },
  {
   "cell_type": "code",
   "execution_count": 7,
   "metadata": {},
   "outputs": [
    {
     "data": {
      "image/png": "[encoded data removed]",
      "text/plain": [
       "<Figure size 1440x720 with 2 Axes>"
      ]
     },
     "metadata": {},
     "output_type": "display_data"
    }
   ],
   "source": [
    "import seaborn as sns\n",
    "fig, ax = plot.subplots(figsize = (20, 10))\n",
    "sns.heatmap(q7_corr.T, ax = ax)\n",
    "plot.show()"
   ]
  },
  {
   "cell_type": "markdown",
   "metadata": {},
   "source": [
    "**Results:** From this heat map, we can visually detect some interesting positive and negative correlations between actions. \n",
    "\n",
    "For the positive, well start with the upper left bright patch between options 1 through 4. The strongest of positive correlations is between options 1 and 2 which regard seeking professional and personal advice from friends with a correlation of 0.69. The rest of that block has relatively high correlations comapared to the rest of the heat map however they have scores around 0.3 to 0.4 which are incredibly significant. \n",
    "\n",
    "Other positively correlated actions include those in option pairs (3, 7), (4, 10), (4, 11), and (10, 11). The first highlights a correleation between those who opt for men as sexual partners as asked in option 7 and the demonstration of lighter physical affection towards male friends as described in option 3. The latter 3 pairs highlight a correlation between actions such as crying, seeing a therapist, and feeling lonely or isolated, which demonstrate emotional vulnerability.\n",
    "\n",
    "Another area that pops out of the data is the pairwise correlations between options 6, 8, and 9, regarding interest in women, profesional sports, and physical fitness.\n",
    "\n",
    "For the negative, unsurprisingly the correlation between the frequency of heterosexual and homosexual activity is starkly negative at -0.42, but we also seem to find that watching sports and and working out is also negatively correltated to homosexual activity, albeit to a lesser degree.\n",
    "\n",
    "In regards to those who have more sex with women, there is a slight negative correlation with emotional vulnerability as discussed earlier although not significant enough to draw any sort of conclusion as they range from -0.1 to 0. This may be due to a lack of data among homosexual men which may get lost in the overwhelming majority of heterosexual men surveyed."
   ]
  },
  {
   "cell_type": "markdown",
   "metadata": {},
   "source": [
    "#### Correlation between reported masculinity and Question 7 actions\n",
    "\n",
    "To conclusively determine which actions listed in question are more masculine than others, we calculated the correlation between each of part of question 7 with question 1. "
   ]
  },
  {
   "cell_type": "code",
   "execution_count": 8,
   "metadata": {},
   "outputs": [
    {
     "data": {
      "text/html": [
       "<div>\n",
       "<style scoped>\n",
       "    .dataframe tbody tr th:only-of-type {\n",
       "        vertical-align: middle;\n",
       "    }\n",
       "\n",
       "    .dataframe tbody tr th {\n",
       "        vertical-align: top;\n",
       "    }\n",
       "\n",
       "    .dataframe thead th {\n",
       "        text-align: right;\n",
       "    }\n",
       "</style>\n",
       "<table border=\"1\" class=\"dataframe\">\n",
       "  <thead>\n",
       "    <tr style=\"text-align: right;\">\n",
       "      <th></th>\n",
       "      <th>q0001</th>\n",
       "    </tr>\n",
       "  </thead>\n",
       "  <tbody>\n",
       "    <tr>\n",
       "      <th>q0001</th>\n",
       "      <td>1.000000</td>\n",
       "    </tr>\n",
       "    <tr>\n",
       "      <th>q0007_0006</th>\n",
       "      <td>0.264966</td>\n",
       "    </tr>\n",
       "    <tr>\n",
       "      <th>q0007_0008</th>\n",
       "      <td>0.183257</td>\n",
       "    </tr>\n",
       "    <tr>\n",
       "      <th>q0007_0009</th>\n",
       "      <td>0.133996</td>\n",
       "    </tr>\n",
       "    <tr>\n",
       "      <th>q0007_0005</th>\n",
       "      <td>0.100738</td>\n",
       "    </tr>\n",
       "    <tr>\n",
       "      <th>q0007_0001</th>\n",
       "      <td>0.085096</td>\n",
       "    </tr>\n",
       "    <tr>\n",
       "      <th>q0007_0002</th>\n",
       "      <td>0.051979</td>\n",
       "    </tr>\n",
       "    <tr>\n",
       "      <th>q0007_0003</th>\n",
       "      <td>0.024599</td>\n",
       "    </tr>\n",
       "    <tr>\n",
       "      <th>q0007_0004</th>\n",
       "      <td>-0.059992</td>\n",
       "    </tr>\n",
       "    <tr>\n",
       "      <th>q0007_0010</th>\n",
       "      <td>-0.086184</td>\n",
       "    </tr>\n",
       "    <tr>\n",
       "      <th>q0007_0007</th>\n",
       "      <td>-0.138682</td>\n",
       "    </tr>\n",
       "    <tr>\n",
       "      <th>q0007_0011</th>\n",
       "      <td>-0.173455</td>\n",
       "    </tr>\n",
       "  </tbody>\n",
       "</table>\n",
       "</div>"
      ],
      "text/plain": [
       "               q0001\n",
       "q0001       1.000000\n",
       "q0007_0006  0.264966\n",
       "q0007_0008  0.183257\n",
       "q0007_0009  0.133996\n",
       "q0007_0005  0.100738\n",
       "q0007_0001  0.085096\n",
       "q0007_0002  0.051979\n",
       "q0007_0003  0.024599\n",
       "q0007_0004 -0.059992\n",
       "q0007_0010 -0.086184\n",
       "q0007_0007 -0.138682\n",
       "q0007_0011 -0.173455"
      ]
     },
     "execution_count": 8,
     "metadata": {},
     "output_type": "execute_result"
    }
   ],
   "source": [
    "q1q7_data = scrub_data[['q0001', 'q0007_0001', 'q0007_0002', 'q0007_0003', \n",
    "                        'q0007_0004', 'q0007_0005', 'q0007_0006', 'q0007_0007', \n",
    "                        'q0007_0008', 'q0007_0009', 'q0007_0010', 'q0007_0011']].dropna().astype(int)\n",
    "q1q7_corr = q1q7_data.corr('pearson')\n",
    "\n",
    "q1q7_corr[['q0001']].sort_values('q0001', ascending = False)"
   ]
  },
  {
   "cell_type": "markdown",
   "metadata": {},
   "source": [
    "**Results:** After sorting the correlation values, we can see that most of our correlation values are not very significant however relative to eachother we can interpret some patterns. \n",
    "\n",
    "Options 6, 8, and 9 top the list with those regarding sex with women, watching sports, and working out. Since from our previous pairwise analysis between these, we can intuitively suspect that these encompass the most masculine traits. \n",
    "\n",
    "Options 7 and 11 tail our list as our least masculine traits, regarding sex with men and feeling lonely and isolated. The former of these may be due to a lack of data from homosexual men conflated with us not taking sexuality into account."
   ]
  },
  {
   "cell_type": "markdown",
   "metadata": {},
   "source": [
    "### **Machine Learning Analyses**\n",
    "\n",
    "To try to discover deeper trends amongst how masculinity interacts with actions, attitudes, and dating practices, we wanted to do a number of machine learning analyses on questions 7, 8, and 20. For each model, we do a repeated 10-fold cross validation and report the mean and median accuracy (or score in the linear regression case) with a 95% confidence bound as well as plot residuals to visually see how closely our model is predicting masculinity. \n",
    "\n",
    "Before we do this, we need to clean up our data to remove rows that contain missing values and cast our columns as the type that they are instead of object types. We also do not include the last option of questions 8 and 20 as they are 'None of the above' which is encoded by all False values in the previous options."
   ]
  },
  {
   "cell_type": "code",
   "execution_count": 9,
   "metadata": {},
   "outputs": [],
   "source": [
    "import numpy as np\n",
    "\n",
    "def skew(array):\n",
    "    return 3 * (np.mean(array) - np.median(array)) / np.std(array)\n",
    "\n",
    "scrub_data = scrub_data[['q0001', \n",
    "                         'q0007_0001', 'q0007_0002', 'q0007_0003', 'q0007_0004', \n",
    "                         'q0007_0005', 'q0007_0006', 'q0007_0007', 'q0007_0008', \n",
    "                         'q0007_0009', 'q0007_0010', 'q0007_0011',\n",
    "                         'q0008_0001', 'q0008_0002', 'q0008_0003', 'q0008_0004', \n",
    "                         'q0008_0005', 'q0008_0006', 'q0008_0007', 'q0008_0008', \n",
    "                         'q0008_0009', 'q0008_0010', 'q0008_0011',\n",
    "                         'q0020_0001', 'q0020_0002', 'q0020_0003', 'q0020_0004', \n",
    "                         'q0020_0005', 'q0020_0006']].dropna()\n",
    "scrub_int = scrub_data[['q0001', \n",
    "                        'q0007_0001', 'q0007_0002', 'q0007_0003', 'q0007_0004', \n",
    "                        'q0007_0005', 'q0007_0006', 'q0007_0007', 'q0007_0008', \n",
    "                        'q0007_0009', 'q0007_0010', 'q0007_0011']].astype(int)\n",
    "scrub_bool = scrub_data[['q0008_0001', 'q0008_0002', 'q0008_0003', 'q0008_0004', \n",
    "                         'q0008_0005', 'q0008_0006', 'q0008_0007', 'q0008_0008', \n",
    "                         'q0008_0009', 'q0008_0010', 'q0008_0011',\n",
    "                         'q0020_0001', 'q0020_0002', 'q0020_0003', 'q0020_0004', \n",
    "                         'q0020_0005', 'q0020_0006']].astype(bool)\n",
    "scrub_data = scrub_int.join(scrub_bool)"
   ]
  },
  {
   "cell_type": "markdown",
   "metadata": {},
   "source": [
    "### Questions 7, 8, and 20 Analyses\n",
    "\n",
    "For our all encompassing models, we decided to look at a Decision Tree model and a Neural Network/MLP Classifier model. We could not do a regression model as the data type of question 7 differs from that of question 8 and 20. We begin by preparing or 10-fold cross validation and splitting our data into our train and test sets for plotting later. For reference, here are questions 7, 8, and 20 as they read:\n",
    "\n",
    "> **7. How often would you say you do each of the following? *Select from: (Often; Sometimes; Rarely; Never, but open to it; Never, and not open to it)*** (RANDOMIZE) \n",
    "> * Ask a friend for professional advice\n",
    "> * Ask a friend for personal advice\n",
    "> * Express physical affection towards male friends, like hugging, rubbing shoulders\n",
    "> * Cry\n",
    "> * Get in a physical fight with another person\n",
    "> * Have sexual relations with women, including anything from kissing to sex\n",
    "> * Have sexual relations with men, including anything from kissing to sex\n",
    "> * Watch sports of any kind\n",
    "> * Work out\n",
    "> * See a therapist\n",
    "> * Feel lonely or isolated\n",
    "\n",
    "> **8. Which of the following do you worry about on a daily or near daily basis? (Select all that apply)** (RANDOMIZE) \n",
    "> * Your height\n",
    "> * Your weight\n",
    "> * Your hair of hairline\n",
    "> * Your physique\n",
    "> * Appearance of your genatalia\n",
    "> * Your clothing or style\n",
    "> * Sexual performance or amount of sex\n",
    "> * Your mental health\n",
    "> * Your physical health\n",
    "> * Your finances, including your future income, assets, or debt\n",
    "> * Your ability to provide to your family, current or anticipated\n",
    "\n",
    "> **20. When you want to be physically intimate with someone, how do you gauge their interest? (Select all that apply)** (RANDOMIZE) \n",
    "> * Read their physical body language to see if they are interested.\n",
    "> * Ask for verbal confirmation of consent\n",
    "> * Make a physical move to see how they react\n",
    "> * Every situation is different\n",
    "> * It isn't always clear how to gauge someone's interest"
   ]
  },
  {
   "cell_type": "code",
   "execution_count": 10,
   "metadata": {},
   "outputs": [],
   "source": [
    "from sklearn.model_selection import RepeatedKFold, cross_val_score\n",
    "\n",
    "x = scrub_data[['q0007_0001', 'q0007_0002', 'q0007_0003', 'q0007_0004', \n",
    "                'q0007_0005', 'q0007_0006', 'q0007_0007', 'q0007_0008', \n",
    "                'q0007_0009', 'q0007_0010', 'q0007_0011',\n",
    "                'q0008_0001', 'q0008_0002', 'q0008_0003', 'q0008_0004', \n",
    "                'q0008_0005', 'q0008_0006', 'q0008_0007', 'q0008_0008', \n",
    "                'q0008_0009', 'q0008_0010', 'q0008_0011',\n",
    "                'q0020_0001', 'q0020_0002', 'q0020_0003', 'q0020_0004', \n",
    "                'q0020_0005', 'q0020_0006']]\n",
    "y = scrub_data[['q0001']]\n",
    "x = np.array([list(i) for i in x.values])\n",
    "y = np.array([list(i) for i in y.values])\n",
    "kf = RepeatedKFold(n_splits = 10, n_repeats = 5)\n",
    "kf.get_n_splits(x)\n",
    "for train_index, test_index in kf.split(x):\n",
    "    x_train, x_test = x[train_index], x[test_index]\n",
    "    y_train, y_test = y[train_index], y[test_index]"
   ]
  },
  {
   "cell_type": "markdown",
   "metadata": {},
   "source": [
    "#### Decision Tree\n",
    "The first model we want to evaluate is the Decision Tree for all three of these questions as our input and reported masculinity as our output."
   ]
  },
  {
   "cell_type": "code",
   "execution_count": 11,
   "metadata": {},
   "outputs": [
    {
     "name": "stdout",
     "output_type": "stream",
     "text": [
      "Mean Accuracy   = 44.7% +- 23.7%\n",
      "Median Accuracy = 42.9% +- 23.7%\n"
     ]
    },
    {
     "data": {
      "image/png": "[encoded data removed]",
      "text/plain": [
       "<Figure size 1440x720 with 1 Axes>"
      ]
     },
     "metadata": {},
     "output_type": "display_data"
    }
   ],
   "source": [
    "from sklearn import tree\n",
    "\n",
    "clf = tree.DecisionTreeClassifier()\n",
    "clf.fit(x_train, y_train)\n",
    "scores = cross_val_score(clf, x_test, y_test, cv = kf)\n",
    "\n",
    "print('Mean Accuracy   = {0:2.1f}% +- {2:2.1f}%\\nMedian Accuracy = {1:2.1f}% +- {2:2.1f}%'.format(\n",
    "    np.mean(scores) * 100, np.median(scores) * 100, np.std(scores) * 200))\n",
    "\n",
    "residuals = np.array([clf.predict([i]) for i in x_test]).reshape(-1, 1) - np.array(y_test)\n",
    "plot.figure(figsize = (20, 10))\n",
    "plot.hist(residuals.flatten(), bins = 9, range = (-4.5, 4.5))\n",
    "plot.text(3.5, 50, 'Residual Mean = {:1.3f}\\nResidual Spread = {:1.3f}\\nResidual Skew = {:1.3f}'.format(\n",
    "    residuals.mean(), residuals.std(), skew(residuals)))\n",
    "plot.xlabel('Masculinity Prediction Error')\n",
    "plot.ylabel('Frequency')\n",
    "plot.title('Decision Tree Error Distribution (Q7, Q8, Q20)')\n",
    "plot.show()"
   ]
  },
  {
   "cell_type": "markdown",
   "metadata": {},
   "source": [
    "**Results:** We see that our accuracy is just below 50% with a rather wide confidence bound; however, our model appears to work reasonably well considering a vast majority of our predictions are within 1 level of masculity from the reported value which, given our early distribution of answers to question 1, are likely to be the differences between 'Somewhat masculine' and 'Very masculine'. This model's performance varies a lot."
   ]
  },
  {
   "cell_type": "markdown",
   "metadata": {},
   "source": [
    "#### MLP Classifier (Neural Network)\n",
    "\n",
    "Out of curiosity, we wanted to see what the performance of a MLP classifier would be, even though we did not cover it extensively during the semester. For this neural network, we decide to use a network with 3 dense layers of 100 perceptrons each, stochastic gradient descent back propogation, and 5000 epochs. "
   ]
  },
  {
   "cell_type": "code",
   "execution_count": 12,
   "metadata": {},
   "outputs": [
    {
     "name": "stdout",
     "output_type": "stream",
     "text": [
      "Mean Accuracy   = 48.6% +- 28.9%\n",
      "Median Accuracy = 50.0% +- 28.9%\n"
     ]
    },
    {
     "data": {
      "image/png": "[encoded data removed]",
      "text/plain": [
       "<Figure size 1440x720 with 1 Axes>"
      ]
     },
     "metadata": {},
     "output_type": "display_data"
    }
   ],
   "source": [
    "from sklearn import neural_network\n",
    "\n",
    "nn = neural_network.MLPClassifier(hidden_layer_sizes = (100, 5), solver = 'sgd', max_iter = 5000)\n",
    "nn.fit(x_train, y_train.reshape(-1))\n",
    "scores = cross_val_score(nn, x_test, y_test.reshape(-1), cv = kf)\n",
    "\n",
    "print('Mean Accuracy   = {0:2.1f}% +- {2:2.1f}%\\nMedian Accuracy = {1:2.1f}% +- {2:2.1f}%'.format(\n",
    "    np.mean(scores) * 100, np.median(scores) * 100, np.std(scores) * 200))\n",
    "\n",
    "residuals = np.array([nn.predict([i]) for i in x_test]).reshape(-1, 1) - np.array(y_test)\n",
    "plot.figure(figsize = (20, 10))\n",
    "plot.hist(residuals.flatten(), bins = 9, range = (-4.5, 4.5))\n",
    "plot.text(3.5, 50, 'Residual Mean = {:1.3f}\\nResidual Spread = {:1.3f}\\nResidual Skew = {:1.3f}'.format(\n",
    "    residuals.mean(), residuals.std(), skew(residuals)))\n",
    "plot.xlabel('Masculinity Prediction Error')\n",
    "plot.ylabel('Frequency')\n",
    "plot.title('MLP Classifier Error Distribution (Q7, Q8, Q20)')\n",
    "plot.show()"
   ]
  },
  {
   "cell_type": "markdown",
   "metadata": {},
   "source": [
    "**Results:** It takes several seconds to fit the model and when performing 10-fold cross validation 5 times, the delay is significant. We will see later in the individual analysis of questions that we can achieve similar accuracies in much less time with regression."
   ]
  },
  {
   "cell_type": "markdown",
   "metadata": {},
   "source": [
    "### Question 7 Analyses\n",
    "\n",
    "For our remaining analyses, we will continue to use a Decision Tree but we will opt for Regression over MLP Classification since we are working input vectors of a homogneous type and it is a less expensive computation. As before, we begin by preparing our 10-fold cross validation."
   ]
  },
  {
   "cell_type": "code",
   "execution_count": 13,
   "metadata": {},
   "outputs": [],
   "source": [
    "from sklearn import linear_model\n",
    "\n",
    "x = scrub_data[['q0007_0001', 'q0007_0002', 'q0007_0003', 'q0007_0004', \n",
    "                'q0007_0005', 'q0007_0006', 'q0007_0007', 'q0007_0008', \n",
    "                'q0007_0009', 'q0007_0010', 'q0007_0011']]\n",
    "y = scrub_data[['q0001']]\n",
    "x = np.array([list(i) for i in x.values])\n",
    "y = np.array([list(i) for i in y.values])\n",
    "kf = RepeatedKFold(n_splits = 10, n_repeats = 5)\n",
    "kf.get_n_splits(x)\n",
    "for train_index, test_index in kf.split(x):\n",
    "    x_train, x_test = x[train_index], x[test_index]\n",
    "    y_train, y_test = y[train_index], y[test_index]"
   ]
  },
  {
   "cell_type": "markdown",
   "metadata": {},
   "source": [
    "#### Linear Regression\n",
    "\n",
    "Our first model for question 7 will be a Linear Regressor with an r-squared scoring method. Because of this scoring method, we will not be reporting our scores as accuracies since they can negative and r^2 is not necessarily the the strongest predictor of fit. Instead, we will be taking the 0+-0.5 bin value from the histogram to evaluate an accuracy comparable to our other models."
   ]
  },
  {
   "cell_type": "code",
   "execution_count": 14,
   "metadata": {},
   "outputs": [
    {
     "name": "stdout",
     "output_type": "stream",
     "text": [
      "Mean Score   = -0.038 +- 0.260\n",
      "Median Score = -0.060 +- 0.260\n",
      "Coefficients and Intercept:  [[ 0.02323185  0.02393164  0.03178118 -0.03678641  0.05093224  0.0987841\n",
      "  -0.0185614   0.06154105  0.02937443 -0.02461819 -0.08444627]] [2.64612654]\n"
     ]
    },
    {
     "data": {
      "image/png": "[encoded data removed]",
      "text/plain": [
       "<Figure size 1440x720 with 1 Axes>"
      ]
     },
     "metadata": {},
     "output_type": "display_data"
    },
    {
     "name": "stdout",
     "output_type": "stream",
     "text": [
      "+-0.5-bin Accuracy = 56.4%\n"
     ]
    }
   ],
   "source": [
    "reg = linear_model.LinearRegression()\n",
    "reg.fit(x_train, y_train)\n",
    "scores = cross_val_score(reg, x_test, y_test, cv = kf, scoring = 'r2')\n",
    "\n",
    "print('Mean Score   = {0:1.3f} +- {2:1.3f}\\nMedian Score = {1:1.3f} +- {2:1.3f}'.format(\n",
    "    np.mean(scores), np.median(scores), np.std(scores)))\n",
    "print('Coefficients and Intercept: ', reg.coef_, reg.intercept_)\n",
    "\n",
    "residuals = np.array([reg.predict([i]) for i in x_test]).reshape(-1, 1) - np.array(y_test)\n",
    "plot.figure(figsize = (20, 10))\n",
    "hist_data, hist_bins, _ = plot.hist(residuals.flatten(), bins = 9, range = (-4.25, 4.25))\n",
    "plot.text(3, 50, 'Residual Mean = {:1.3f}\\nResidual Spread = {:1.3f}\\nResidual Skew = {:1.3f}'.format(\n",
    "    residuals.mean(), residuals.std(), skew(residuals)))\n",
    "plot.xlabel('Masculinity Prediction Error')\n",
    "plot.ylabel('Frequency')\n",
    "plot.title('Linear Regressor Error Distribution (Q7)')\n",
    "plot.show()\n",
    "print('+-0.5-bin Accuracy = {:2.1f}%'.format(100*hist_data[4]/sum(hist_data)))"
   ]
  },
  {
   "cell_type": "markdown",
   "metadata": {},
   "source": [
    "**Results:** This model, from its r-squared score, seems not to predict masculinity very well. However, we note that the zero-bin accuracy is about 50%, which suggests that this works about as well as the MLP Classifier from early but is much faster.\n",
    "\n",
    "Another thing to note is the intercept value of around 2.5. This indicates that most of the fitting is being done to the vast majority of those who responded feeling 'Somewhat masculine' or 'Very masculine'. We also note that the spread (or standard deviation) of our residuals is tighter than others which suggest that this model is a better predictor than other models.\n",
    "\n",
    "Given all of this, our r-squared scores may indicated that a non-linear model with interaction terms may be a better predictor than this, however that analysis will not be done in this project."
   ]
  },
  {
   "cell_type": "markdown",
   "metadata": {},
   "source": [
    "#### Decision Tree\n",
    "\n",
    "We will use a Decison Tree classifier like we did in the previous part but with the data from question 7 only."
   ]
  },
  {
   "cell_type": "code",
   "execution_count": 15,
   "metadata": {},
   "outputs": [
    {
     "name": "stdout",
     "output_type": "stream",
     "text": [
      "Mean Accuracy   = 48.4% +- 29.9%\n",
      "Median Accuracy = 50.0% +- 29.9%\n"
     ]
    },
    {
     "data": {
      "image/png": "[encoded data removed]",
      "text/plain": [
       "<Figure size 1440x720 with 1 Axes>"
      ]
     },
     "metadata": {},
     "output_type": "display_data"
    }
   ],
   "source": [
    "clf = tree.DecisionTreeClassifier()\n",
    "clf.fit(x_train, y_train)\n",
    "scores = cross_val_score(clf, x_test, y_test, cv = kf)\n",
    "\n",
    "print('Mean Accuracy   = {0:2.1f}% +- {2:2.1f}%\\nMedian Accuracy = {1:2.1f}% +- {2:2.1f}%'.format(\n",
    "    np.mean(scores) * 100, np.median(scores) * 100, np.std(scores) * 200))\n",
    "\n",
    "residuals = np.array([clf.predict([i]) for i in x_test]).reshape(-1, 1) - np.array(y_test)\n",
    "plot.figure(figsize = (20, 10))\n",
    "plot.hist(residuals.flatten(), bins = 9, range = (-4.5, 4.5))\n",
    "plot.text(3.5, 50, 'Residual Mean = {:1.3f}\\nResidual Spread = {:1.3f}\\nResidual Skew = {:1.3f}'.format(\n",
    "    residuals.mean(), residuals.std(), skew(residuals)))\n",
    "plot.xlabel('Masculinity Prediction Error')\n",
    "plot.ylabel('Frequency')\n",
    "plot.title('Decision Tree Error Distribution (Q7)')\n",
    "plot.show()"
   ]
  },
  {
   "cell_type": "markdown",
   "metadata": {},
   "source": [
    "**Results:** The Decision Tree did not work as well on this data set at an accuracy of about 45%. This model also ranges a lot in its performance."
   ]
  },
  {
   "cell_type": "markdown",
   "metadata": {},
   "source": [
    "### Question 8 Analyses\n",
    "\n",
    "Question 8 surveys mens' self-image. Intuitively, we would expect this to be one of the strongest predictors of masculinity since we have seen from questions 1 and 2 that masculinity is positively correlted with importance of being seen as masculine; however, this ends up being a weaker individual predictor of masculinity for both models that we evaluate.\n",
    "\n",
    "As always, we begin by preparing our 10-fold cross validation."
   ]
  },
  {
   "cell_type": "code",
   "execution_count": 16,
   "metadata": {},
   "outputs": [],
   "source": [
    "x = scrub_data[['q0008_0001', 'q0008_0002', 'q0008_0003', 'q0008_0004', \n",
    "                'q0008_0005', 'q0008_0006', 'q0008_0007', 'q0008_0008', \n",
    "                'q0008_0009', 'q0008_0010', 'q0008_0011']]\n",
    "y = scrub_data[['q0001']]\n",
    "x = np.array([list(i) for i in x.values])\n",
    "y = np.array([list(i) for i in y.values])\n",
    "kf = RepeatedKFold(n_splits = 10, n_repeats = 5)\n",
    "kf.get_n_splits(x)\n",
    "for train_index, test_index in kf.split(x):\n",
    "    x_train, x_test = x[train_index], x[test_index]\n",
    "    y_train, y_test = y[train_index], y[test_index]"
   ]
  },
  {
   "cell_type": "markdown",
   "metadata": {},
   "source": [
    "#### Logistic Regression\n",
    "\n",
    "Since we have boolean values for our question 8 options, we will be using a Logistic Regressor to predict masculinity for our first model."
   ]
  },
  {
   "cell_type": "code",
   "execution_count": 17,
   "metadata": {},
   "outputs": [
    {
     "name": "stdout",
     "output_type": "stream",
     "text": [
      "Mean Accuracy   = 46.9% +- 24.3%\n",
      "Median Accuracy = 50.0% +- 24.3%\n",
      "Coefficients and Intercept:  [[ 0.07452438 -1.07156782  1.24159581 -0.46675897  0.06954374  0.41421456\n",
      "   0.71627778  0.26827463 -0.64658608  0.37709752 -0.95800668]\n",
      " [ 0.19175115 -0.08314804  0.15461142 -0.00441863  0.44288016  0.13339977\n",
      "   0.49883154  0.47791416 -0.17425859 -0.30935831 -0.02132269]\n",
      " [-0.23096856  0.20796192 -0.22738878  0.08454509 -0.02416507  0.15754157\n",
      "  -0.00315697  0.30444751  0.26222751  0.06441843 -0.23071881]\n",
      " [ 0.1646336  -0.1300842   0.01470487 -0.04280255 -0.20382748 -0.29818677\n",
      "  -0.27485667 -0.55846722 -0.18568008 -0.04904507  0.34883669]] [-3.61011802 -2.4864294  -0.21898217 -0.14134116]\n"
     ]
    },
    {
     "data": {
      "image/png": "[encoded data removed]",
      "text/plain": [
       "<Figure size 1440x720 with 1 Axes>"
      ]
     },
     "metadata": {},
     "output_type": "display_data"
    }
   ],
   "source": [
    "reg = linear_model.LogisticRegression()\n",
    "reg.fit(x_train, np.ravel(y_train))\n",
    "scores = cross_val_score(reg, x_test, np.ravel(y_test), cv = kf)\n",
    "\n",
    "print('Mean Accuracy   = {0:2.1f}% +- {2:2.1f}%\\nMedian Accuracy = {1:2.1f}% +- {2:2.1f}%'.format(\n",
    "    np.mean(scores) * 100, np.median(scores) * 100, np.std(scores) * 200))\n",
    "print('Coefficients and Intercept: ', reg.coef_, reg.intercept_)\n",
    "\n",
    "residuals = np.array([reg.predict([i]) for i in x_test]).reshape(-1, 1) - np.array(y_test)\n",
    "plot.figure(figsize = (20, 10))\n",
    "plot.hist(residuals.flatten(), bins = 9, range = (-4.5, 4.5))\n",
    "plot.text(3.5, 60, 'Residual Mean = {:1.3f}\\nResidual Spread = {:1.3f}\\nResidual Skew = {:1.3f}'.format(\n",
    "    residuals.mean(), residuals.std(), skew(residuals)))\n",
    "plot.xlabel('Masculinity Prediction Error')\n",
    "plot.ylabel('Frequency')\n",
    "plot.title('Logistic Regressor Error Distribution (Q8)')\n",
    "plot.show()"
   ]
  },
  {
   "cell_type": "markdown",
   "metadata": {},
   "source": [
    "**Results:** This model performed better than the Decision Tree model for other questions. This model does happen to have some large over predictions which, given the very discrete nature of the output range, indicates the weakness of this predictor. This models performance varies a lot as well."
   ]
  },
  {
   "cell_type": "markdown",
   "metadata": {},
   "source": [
    "#### Decision Tree\n",
    "\n",
    "Next we will run a Decision Tree classifier on our question 8 inputs."
   ]
  },
  {
   "cell_type": "code",
   "execution_count": 18,
   "metadata": {},
   "outputs": [
    {
     "name": "stdout",
     "output_type": "stream",
     "text": [
      "Mean Accuracy   = 43.3% +- 23.3%\n",
      "Median Accuracy = 42.9% +- 23.3%\n"
     ]
    },
    {
     "data": {
      "image/png": "[encoded data removed]",
      "text/plain": [
       "<Figure size 1440x720 with 1 Axes>"
      ]
     },
     "metadata": {},
     "output_type": "display_data"
    }
   ],
   "source": [
    "clf = tree.DecisionTreeClassifier()\n",
    "clf.fit(x_train, y_train)\n",
    "scores = cross_val_score(clf, x_test, y_test, cv = kf)\n",
    "\n",
    "print('Mean Accuracy   = {0:2.1f}% +- {2:2.1f}%\\nMedian Accuracy = {1:2.1f}% +- {2:2.1f}%'.format(\n",
    "    np.mean(scores) * 100, np.median(scores) * 100, np.std(scores) * 200))\n",
    "\n",
    "residuals = np.array([clf.predict([i]) for i in x_test]).reshape(-1, 1) - np.array(y_test)\n",
    "plot.figure(figsize = (20, 10))\n",
    "plot.hist(residuals.flatten(), bins = 9, range = (-4.5, 4.5))\n",
    "plot.text(3.5, 60, 'Residual Mean = {:1.3f}\\nResidual Spread = {:1.3f}\\nResidual Skew = {:1.3f}'.format(\n",
    "    residuals.mean(), residuals.std(), skew(residuals)))\n",
    "plot.xlabel('Masculinity Prediction Error')\n",
    "plot.ylabel('Frequency')\n",
    "plot.title('Decision Tree Error Distribution (Q8)')\n",
    "plot.show()"
   ]
  },
  {
   "cell_type": "markdown",
   "metadata": {},
   "source": [
    "**Results:** Accuracies around 35% show that this model is the weakest among all of them, even across questions. This, as well as the results from the previous model for question 8, indicate that self-image is likely not a good predictor of masculinity against our intuition."
   ]
  },
  {
   "cell_type": "markdown",
   "metadata": {},
   "source": [
    "### Question 20 Analyses\n",
    "\n",
    "Question 20 regards how men approach intimate relations. We figured that this would also be a strong indicator of masculinity as the strongest correlation between an action and self reported masculinity was how often men had sex with women, granted in this predominantely heterosexual dataset.\n",
    "\n",
    "We will first prepare our 10-fold cross validation for our final individual question analysis."
   ]
  },
  {
   "cell_type": "code",
   "execution_count": 19,
   "metadata": {},
   "outputs": [],
   "source": [
    "x = scrub_data[['q0020_0001', 'q0020_0002', 'q0020_0003', 'q0020_0004', \n",
    "                'q0020_0005', 'q0020_0006']]\n",
    "y = scrub_data[['q0001']]\n",
    "x = np.array([list(i) for i in x.values])\n",
    "y = np.array([list(i) for i in y.values])\n",
    "kf = RepeatedKFold(n_splits = 10, n_repeats = 5)\n",
    "kf.get_n_splits(x)\n",
    "for train_index, test_index in kf.split(x):\n",
    "    x_train, x_test = x[train_index], x[test_index]\n",
    "    y_train, y_test = y[train_index], y[test_index]   "
   ]
  },
  {
   "cell_type": "markdown",
   "metadata": {},
   "source": [
    "#### Logistic Regression\n",
    "\n",
    "Like the previous question, we will run a Logistic Regressor first."
   ]
  },
  {
   "cell_type": "code",
   "execution_count": 20,
   "metadata": {},
   "outputs": [
    {
     "name": "stdout",
     "output_type": "stream",
     "text": [
      "Mean Accuracy   = 52.4% +- 22.4%\n",
      "Median Accuracy = 50.0% +- 22.4%\n",
      "Coefficients and Intercept:  [[-0.78972333 -0.97624967  0.00952026 -1.0121228   0.47541289 -0.17839305]\n",
      " [-0.07222591  0.08996948 -0.05443601 -0.7436089   0.6214534   0.03390766]\n",
      " [-0.04455699  0.05709605 -0.27450338 -0.00651972  0.1619721  -0.25266106]\n",
      " [ 0.13286214 -0.02481714  0.29189296  0.33691329 -0.49875561  0.25813949]] [-3.10997994 -2.19635021  0.11423363 -0.67784766]\n"
     ]
    },
    {
     "data": {
      "image/png": "[encoded data removed]",
      "text/plain": [
       "<Figure size 1440x720 with 1 Axes>"
      ]
     },
     "metadata": {},
     "output_type": "display_data"
    }
   ],
   "source": [
    "reg = linear_model.LogisticRegression()\n",
    "reg.fit(x_train, np.ravel(y_train))\n",
    "scores = cross_val_score(reg, x_test, np.ravel(y_test), cv = kf)\n",
    "\n",
    "print('Mean Accuracy   = {0:2.1f}% +- {2:2.1f}%\\nMedian Accuracy = {1:2.1f}% +- {2:2.1f}%'.format(\n",
    "    np.mean(scores) * 100, np.median(scores) * 100, np.std(scores) * 200))\n",
    "print('Coefficients and Intercept: ', reg.coef_, reg.intercept_)\n",
    "\n",
    "residuals = np.array([reg.predict([i]) for i in x_test]).reshape(-1, 1) - np.array(y_test)\n",
    "plot.figure(figsize = (20, 10))\n",
    "plot.hist(residuals.flatten(), bins = 9, range = (-4.5, 4.5))\n",
    "plot.text(3.5, 60, 'Residual Mean = {:1.3f}\\nResidual Spread = {:1.3f}\\nResidual Skew = {:1.3f}'.format(\n",
    "    residuals.mean(), residuals.std(), skew(residuals)))\n",
    "plot.xlabel('Masculinity Prediction Error')\n",
    "plot.ylabel('Frequency')\n",
    "plot.title('Logistic Regressor Error Distribution (Q20)')\n",
    "plot.show()"
   ]
  },
  {
   "cell_type": "markdown",
   "metadata": {},
   "source": [
    "**Results:** This model performs about as well as our other good models as about 50%. Also the spread of residuals indicate that this is a reasonably good predictor, although the skew indicates that it underpredicts reported masculinity."
   ]
  },
  {
   "cell_type": "markdown",
   "metadata": {},
   "source": [
    "#### Decision Tree\n",
    "\n",
    "Finally, we will run a Decision Tree classifier on question 20 inputs."
   ]
  },
  {
   "cell_type": "code",
   "execution_count": 21,
   "metadata": {},
   "outputs": [
    {
     "name": "stdout",
     "output_type": "stream",
     "text": [
      "Mean Accuracy   = 47.3% +- 25.5%\n",
      "Median Accuracy = 42.9% +- 25.5%\n"
     ]
    },
    {
     "data": {
      "image/png": "[encoded data removed]",
      "text/plain": [
       "<Figure size 1440x720 with 1 Axes>"
      ]
     },
     "metadata": {},
     "output_type": "display_data"
    }
   ],
   "source": [
    "clf = tree.DecisionTreeClassifier()\n",
    "clf.fit(x_train, y_train)\n",
    "scores = cross_val_score(clf, x_test, y_test, cv = kf)\n",
    "\n",
    "print('Mean Accuracy   = {0:2.1f}% +- {2:2.1f}%\\nMedian Accuracy = {1:2.1f}% +- {2:2.1f}%'.format(\n",
    "    np.mean(scores) * 100, np.median(scores) * 100, np.std(scores) * 200))\n",
    "\n",
    "residuals = np.array([clf.predict([i]) for i in x_test]).reshape(-1, 1) - np.array(y_test)\n",
    "plot.figure(figsize = (20, 10))\n",
    "plot.hist(residuals.flatten(), bins = 9, range = (-4.5, 4.5))\n",
    "plot.text(3.5, 60, 'Residual Mean = {:1.3f}\\nResidual Spread = {:1.3f}\\nResidual Skew = {:1.3f}'.format(\n",
    "    residuals.mean(), residuals.std(), skew(residuals)))\n",
    "plot.xlabel('Masculinity Prediction Error')\n",
    "plot.ylabel('Frequency')\n",
    "plot.title('Decision Tree Error Distribution (Q20)')\n",
    "plot.show()"
   ]
  },
  {
   "cell_type": "markdown",
   "metadata": {},
   "source": [
    "**Results:** This model predicts at just below 50%, similar to the other good Decision Tree classifier. This model and the previous model indicate that mens' approach to intimate relations is a relatively strong indicator of masculinity. This model's performance varies a lot as well."
   ]
  },
  {
   "cell_type": "markdown",
   "metadata": {},
   "source": [
    "### **Conclusion**\n",
    "\n",
    "Our analyses found many interesting correlations and the models we trained made seemingly informed predictions regarding masculinity, albeit not the strongest or most accurate. This limitation on our models is often seen when trying to predict human behavior in psychological feilds, specifically in the r-squared values measured for our Linear Regression model ([Regression Analysis: How Do I Interpret R-squared and Assess the Goodness-of-Fit?](http://blog.minitab.com/blog/adventures-in-statistics-2/regression-analysis-how-do-i-interpret-r-squared-and-assess-the-goodness-of-fit)).\n",
    "\n",
    "Among the actions in question 7, we found that those men who more often had worked out, watched sports, and had sex with women tended to feel more masculine. Those who less often felt or expressed emotional vulnerabilities, such as crying, feeling lonely or isolated, or seeing a therapist tended to also feel more masculine. Other actions seemed to be neutral in regards to how masculine those actions are percived, such as seeking advice from friends.\n",
    "\n",
    "Among our predictions models, we found that Decision Trees overall performed worse compared to MLP Classifiers and Regressors. This went against our initial intuition as we were expecting a classification, but realized that our outputs and inputs scaled well to regression on an individual question analysis basis. For multi-question analysis, regression proved much more logistically challenging with heterogenous data types, thus we tested a neural network. Most of our model performance measures varied quite a bit, thus why we opted for repeated K-fold cross validation. However, we found that regression tended to be a bit more robust thus slightly aiding our prediction confidence.\n",
    "\n",
    "Although we did not explore the effects of the #MeToo movement on attitudes toward masculinity among men, we were able to confidently identify traits that are considered masculine and explore deeper trends regarding emotional vulnerability and potential stigma surrounding it. It is safe to say more work can be done with this dataset beyond the scope of what we covered here."
   ]
  },
  {
   "cell_type": "code",
   "execution_count": null,
   "metadata": {},
   "outputs": [],
   "source": []
  }
 ],
 "metadata": {
  "kernelspec": {
   "display_name": "Python 3",
   "language": "python",
   "name": "python3"
  },
  "language_info": {
   "codemirror_mode": {
    "name": "ipython",
    "version": 3
   },
   "file_extension": ".py",
   "mimetype": "text/x-python",
   "name": "python",
   "nbconvert_exporter": "python",
   "pygments_lexer": "ipython3",
   "version": "3.6.5"
  }
 },
 "nbformat": 4,
 "nbformat_minor": 2
}
