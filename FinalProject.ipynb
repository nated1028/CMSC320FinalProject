{
 "cells": [
  {
   "cell_type": "markdown",
   "metadata": {},
   "source": [
    "# **What makes a man?**\n",
    "## *Final Project for Introduction to Data Science at the University of Maryland, College Park*\n",
    "#### **Authors:** Nate Dudley, Tsipora Stone, and Alan Kossoy"
   ]
  },
  {
   "cell_type": "markdown",
   "metadata": {},
   "source": [
    "### **Introduction**\n",
    "\n",
    "In 2006, Tarana Burke first coined the phrase \"Me Too\" to help women who had survived sexual assault or violence of any kind. For 10 years after, this phrase became an instant sensation for all people who wished to report a sexual assault encounter. In October, 2017, the Me Too hashtag went viral on Twitter, with millions of users using this hashtag. After this movement, many men began to question their actions as men and what \"masculinity\" really entailed. To learn more about the #MeToo movement, go to https://www.nytimes.com/series/metoo-moment \n",
    "\n",
    "In order to discover how men truly felt about their masculinity in the wake of the \"#MeToo\" movement, FiveThirtyEight created a survey in partnership with SurveyMonkey and WNYC Studios in which they polled 1,615 men above the age of 18 for two weeks in May 2018 on how masculine they feel and their lifestyle choices, asking questions such as how often do you cry. The motivation for this project came from this article: https://fivethirtyeight.com/features/what-do-men-think-it-means-to-be-a-man/ and the csv file with the data resulting from this survey can be found here: https://www.kaggle.com/fivethirtyeight/fivethirtyeight-masculinity-survey-dataset/version/96#README.md \n",
    "\n",
    "In this project, we want to explore what factors are considered masuculine in today's society and how men view these attributes. "
   ]
  },
  {
   "cell_type": "markdown",
   "metadata": {},
   "source": [
    "### **Data Collection**\n",
    "\n",
    "We imported the pandas library to curate the data from the csv file (more information about Pandas can be found here - https://pandas.pydata.org/. In order to do analysis on the data, read in the csv file and store it in a pandas dataframe. We did not have to preprocess the data because it was already formatted nicely in a csv file. The dataframe has columns which include:\n",
    "\n",
    "**start date, end date, 36 questions from the survey, race and ethnicity, education, age, amount of kids, sexual orientation**"
   ]
  },
  {
   "cell_type": "code",
   "execution_count": 4,
   "metadata": {
    "scrolled": true
   },
   "outputs": [
    {
     "data": {
      "text/html": [
       "<div>\n",
       "<style scoped>\n",
       "    .dataframe tbody tr th:only-of-type {\n",
       "        vertical-align: middle;\n",
       "    }\n",
       "\n",
       "    .dataframe tbody tr th {\n",
       "        vertical-align: top;\n",
       "    }\n",
       "\n",
       "    .dataframe thead th {\n",
       "        text-align: right;\n",
       "    }\n",
       "</style>\n",
       "<table border=\"1\" class=\"dataframe\">\n",
       "  <thead>\n",
       "    <tr style=\"text-align: right;\">\n",
       "      <th></th>\n",
       "      <th>Unnamed: 0</th>\n",
       "      <th>StartDate</th>\n",
       "      <th>EndDate</th>\n",
       "      <th>q0001</th>\n",
       "      <th>q0002</th>\n",
       "      <th>q0004_0001</th>\n",
       "      <th>q0004_0002</th>\n",
       "      <th>q0004_0003</th>\n",
       "      <th>q0004_0004</th>\n",
       "      <th>q0004_0005</th>\n",
       "      <th>...</th>\n",
       "      <th>q0035</th>\n",
       "      <th>q0036</th>\n",
       "      <th>race2</th>\n",
       "      <th>racethn4</th>\n",
       "      <th>educ3</th>\n",
       "      <th>educ4</th>\n",
       "      <th>age3</th>\n",
       "      <th>kids</th>\n",
       "      <th>orientation</th>\n",
       "      <th>weight</th>\n",
       "    </tr>\n",
       "  </thead>\n",
       "  <tbody>\n",
       "    <tr>\n",
       "      <th>0</th>\n",
       "      <td>1</td>\n",
       "      <td>5/10/18 4:01</td>\n",
       "      <td>5/10/18 4:06</td>\n",
       "      <td>Somewhat masculine</td>\n",
       "      <td>Somewhat important</td>\n",
       "      <td>Not selected</td>\n",
       "      <td>Not selected</td>\n",
       "      <td>Not selected</td>\n",
       "      <td>Pop culture</td>\n",
       "      <td>Not selected</td>\n",
       "      <td>...</td>\n",
       "      <td>Middle Atlantic</td>\n",
       "      <td>Windows Desktop / Laptop</td>\n",
       "      <td>Non-white</td>\n",
       "      <td>Hispanic</td>\n",
       "      <td>College or more</td>\n",
       "      <td>College or more</td>\n",
       "      <td>35 - 64</td>\n",
       "      <td>No children</td>\n",
       "      <td>Gay/Bisexual</td>\n",
       "      <td>1.714026</td>\n",
       "    </tr>\n",
       "    <tr>\n",
       "      <th>1</th>\n",
       "      <td>2</td>\n",
       "      <td>5/10/18 6:30</td>\n",
       "      <td>5/10/18 6:53</td>\n",
       "      <td>Somewhat masculine</td>\n",
       "      <td>Somewhat important</td>\n",
       "      <td>Father or father figure(s)</td>\n",
       "      <td>Not selected</td>\n",
       "      <td>Not selected</td>\n",
       "      <td>Not selected</td>\n",
       "      <td>Not selected</td>\n",
       "      <td>...</td>\n",
       "      <td>East North Central</td>\n",
       "      <td>iOS Phone / Tablet</td>\n",
       "      <td>White</td>\n",
       "      <td>White</td>\n",
       "      <td>Some college</td>\n",
       "      <td>Some college</td>\n",
       "      <td>65 and up</td>\n",
       "      <td>Has children</td>\n",
       "      <td>Straight</td>\n",
       "      <td>1.247120</td>\n",
       "    </tr>\n",
       "    <tr>\n",
       "      <th>2</th>\n",
       "      <td>3</td>\n",
       "      <td>5/10/18 7:02</td>\n",
       "      <td>5/10/18 7:09</td>\n",
       "      <td>Very masculine</td>\n",
       "      <td>Not too important</td>\n",
       "      <td>Father or father figure(s)</td>\n",
       "      <td>Not selected</td>\n",
       "      <td>Not selected</td>\n",
       "      <td>Not selected</td>\n",
       "      <td>Not selected</td>\n",
       "      <td>...</td>\n",
       "      <td>East North Central</td>\n",
       "      <td>Windows Desktop / Laptop</td>\n",
       "      <td>White</td>\n",
       "      <td>White</td>\n",
       "      <td>College or more</td>\n",
       "      <td>College or more</td>\n",
       "      <td>35 - 64</td>\n",
       "      <td>Has children</td>\n",
       "      <td>Straight</td>\n",
       "      <td>0.515746</td>\n",
       "    </tr>\n",
       "    <tr>\n",
       "      <th>3</th>\n",
       "      <td>4</td>\n",
       "      <td>5/10/18 7:27</td>\n",
       "      <td>5/10/18 7:31</td>\n",
       "      <td>Very masculine</td>\n",
       "      <td>Not too important</td>\n",
       "      <td>Father or father figure(s)</td>\n",
       "      <td>Mother or mother figure(s)</td>\n",
       "      <td>Other family members</td>\n",
       "      <td>Not selected</td>\n",
       "      <td>Not selected</td>\n",
       "      <td>...</td>\n",
       "      <td>East North Central</td>\n",
       "      <td>Windows Desktop / Laptop</td>\n",
       "      <td>White</td>\n",
       "      <td>White</td>\n",
       "      <td>Some college</td>\n",
       "      <td>Some college</td>\n",
       "      <td>65 and up</td>\n",
       "      <td>Has children</td>\n",
       "      <td>No answer</td>\n",
       "      <td>0.600640</td>\n",
       "    </tr>\n",
       "    <tr>\n",
       "      <th>4</th>\n",
       "      <td>5</td>\n",
       "      <td>5/10/18 7:35</td>\n",
       "      <td>5/10/18 7:42</td>\n",
       "      <td>Very masculine</td>\n",
       "      <td>Very important</td>\n",
       "      <td>Not selected</td>\n",
       "      <td>Not selected</td>\n",
       "      <td>Other family members</td>\n",
       "      <td>Not selected</td>\n",
       "      <td>Not selected</td>\n",
       "      <td>...</td>\n",
       "      <td>East North Central</td>\n",
       "      <td>Windows Desktop / Laptop</td>\n",
       "      <td>White</td>\n",
       "      <td>White</td>\n",
       "      <td>College or more</td>\n",
       "      <td>College or more</td>\n",
       "      <td>35 - 64</td>\n",
       "      <td>No children</td>\n",
       "      <td>Straight</td>\n",
       "      <td>1.033400</td>\n",
       "    </tr>\n",
       "  </tbody>\n",
       "</table>\n",
       "<p>5 rows × 98 columns</p>\n",
       "</div>"
      ],
      "text/plain": [
       "   Unnamed: 0     StartDate       EndDate               q0001  \\\n",
       "0           1  5/10/18 4:01  5/10/18 4:06  Somewhat masculine   \n",
       "1           2  5/10/18 6:30  5/10/18 6:53  Somewhat masculine   \n",
       "2           3  5/10/18 7:02  5/10/18 7:09      Very masculine   \n",
       "3           4  5/10/18 7:27  5/10/18 7:31      Very masculine   \n",
       "4           5  5/10/18 7:35  5/10/18 7:42      Very masculine   \n",
       "\n",
       "                q0002                  q0004_0001                  q0004_0002  \\\n",
       "0  Somewhat important                Not selected                Not selected   \n",
       "1  Somewhat important  Father or father figure(s)                Not selected   \n",
       "2   Not too important  Father or father figure(s)                Not selected   \n",
       "3   Not too important  Father or father figure(s)  Mother or mother figure(s)   \n",
       "4      Very important                Not selected                Not selected   \n",
       "\n",
       "             q0004_0003    q0004_0004    q0004_0005    ...     \\\n",
       "0          Not selected   Pop culture  Not selected    ...      \n",
       "1          Not selected  Not selected  Not selected    ...      \n",
       "2          Not selected  Not selected  Not selected    ...      \n",
       "3  Other family members  Not selected  Not selected    ...      \n",
       "4  Other family members  Not selected  Not selected    ...      \n",
       "\n",
       "                q0035                     q0036      race2  racethn4  \\\n",
       "0     Middle Atlantic  Windows Desktop / Laptop  Non-white  Hispanic   \n",
       "1  East North Central        iOS Phone / Tablet      White     White   \n",
       "2  East North Central  Windows Desktop / Laptop      White     White   \n",
       "3  East North Central  Windows Desktop / Laptop      White     White   \n",
       "4  East North Central  Windows Desktop / Laptop      White     White   \n",
       "\n",
       "             educ3            educ4       age3          kids   orientation  \\\n",
       "0  College or more  College or more    35 - 64   No children  Gay/Bisexual   \n",
       "1     Some college     Some college  65 and up  Has children      Straight   \n",
       "2  College or more  College or more    35 - 64  Has children      Straight   \n",
       "3     Some college     Some college  65 and up  Has children     No answer   \n",
       "4  College or more  College or more    35 - 64   No children      Straight   \n",
       "\n",
       "     weight  \n",
       "0  1.714026  \n",
       "1  1.247120  \n",
       "2  0.515746  \n",
       "3  0.600640  \n",
       "4  1.033400  \n",
       "\n",
       "[5 rows x 98 columns]"
      ]
     },
     "execution_count": 4,
     "metadata": {},
     "output_type": "execute_result"
    }
   ],
   "source": [
    "import pandas as pd\n",
    "\n",
    "raw_data = pd.read_csv(\"data/fivethirtyeight-masculinity-survey-dataset/raw-responses.csv\")\n",
    "\n",
    "raw_data.head(5)"
   ]
  },
  {
   "cell_type": "markdown",
   "metadata": {},
   "source": [
    "### **Exploratory Data Analysis**\n",
    "\n",
    "In this section of analysis, we are looking for correlations between the questions asked in the survey and people's perceived masculinity levels. In order to achieve this, we create a series of graphs showing correlation and compute the correlation coefficients and then run a decision tree on test data to see if we can predict how masculine people feel based on their answers to certain questions."
   ]
  },
  {
   "cell_type": "markdown",
   "metadata": {},
   "source": [
    "#### Masculine Plot\n",
    "In this first plot we wanted to see how many people considered themselves \"very masculine\", \"somewhat masculine\", \"not very masculine\", \"not at all masculine\" and those that gave no answer. This gives us a general idea of what men think of themselves in terms of their own masculinity. "
   ]
  },
  {
   "cell_type": "code",
   "execution_count": 5,
   "metadata": {},
   "outputs": [
    {
     "name": "stdout",
     "output_type": "stream",
     "text": [
      "['Very masculine', 'Somewhat masculine', 'Not very masculine', 'Not at all masculine', 'No answer']\n"
     ]
    },
    {
     "data": {
      "text/plain": [
       "<Figure size 2000x1000 with 1 Axes>"
      ]
     },
     "metadata": {},
     "output_type": "display_data"
    }
   ],
   "source": [
    "import matplotlib.pyplot as plot\n",
    "\n",
    "x = raw_data['q0001'].value_counts()\n",
    "keys = list(x.keys())\n",
    "keys.insert(0, keys.pop(1))\n",
    "\n",
    "print(keys)\n",
    "\n",
    "plot.figure(figsize = (20, 10))\n",
    "plot.bar(keys, [x[k] for k in keys])\n",
    "plot.xlabel('Reported Masculinity')\n",
    "plot.ylabel('Number of Respondents')\n",
    "plot.title('Self Reported Masculinity Distribution (Q1)')\n",
    "plot.show()"
   ]
  },
  {
   "cell_type": "markdown",
   "metadata": {},
   "source": [
    "**Results:** From this graph, it is evident that most men who took this survey believe that they are somewhat masculine, with approximately 800 men giving this answer, while the second most popular category was very masculine with approximately 600 men giving this answer. This data shows that most men consider themselves on the higher end of the masculinity scale."
   ]
  },
  {
   "cell_type": "markdown",
   "metadata": {},
   "source": [
    "### **Tidying the Data**\n",
    "\n",
    "In order to do further analysis on the data and to find the correlations between the questions asked, we tidied the data by giving \"not selected\" false values and everything else true values."
   ]
  },
  {
   "cell_type": "code",
   "execution_count": 6,
   "metadata": {},
   "outputs": [
    {
     "data": {
      "text/html": [
       "<div>\n",
       "<style scoped>\n",
       "    .dataframe tbody tr th:only-of-type {\n",
       "        vertical-align: middle;\n",
       "    }\n",
       "\n",
       "    .dataframe tbody tr th {\n",
       "        vertical-align: top;\n",
       "    }\n",
       "\n",
       "    .dataframe thead th {\n",
       "        text-align: right;\n",
       "    }\n",
       "</style>\n",
       "<table border=\"1\" class=\"dataframe\">\n",
       "  <thead>\n",
       "    <tr style=\"text-align: right;\">\n",
       "      <th></th>\n",
       "      <th>Unnamed: 0</th>\n",
       "      <th>StartDate</th>\n",
       "      <th>EndDate</th>\n",
       "      <th>q0001</th>\n",
       "      <th>q0002</th>\n",
       "      <th>q0004_0001</th>\n",
       "      <th>q0004_0002</th>\n",
       "      <th>q0004_0003</th>\n",
       "      <th>q0004_0004</th>\n",
       "      <th>q0004_0005</th>\n",
       "      <th>...</th>\n",
       "      <th>q0035</th>\n",
       "      <th>q0036</th>\n",
       "      <th>race2</th>\n",
       "      <th>racethn4</th>\n",
       "      <th>educ3</th>\n",
       "      <th>educ4</th>\n",
       "      <th>age3</th>\n",
       "      <th>kids</th>\n",
       "      <th>orientation</th>\n",
       "      <th>weight</th>\n",
       "    </tr>\n",
       "  </thead>\n",
       "  <tbody>\n",
       "    <tr>\n",
       "      <th>0</th>\n",
       "      <td>1</td>\n",
       "      <td>5/10/18 4:01</td>\n",
       "      <td>5/10/18 4:06</td>\n",
       "      <td>3</td>\n",
       "      <td>3</td>\n",
       "      <td>Not selected</td>\n",
       "      <td>Not selected</td>\n",
       "      <td>Not selected</td>\n",
       "      <td>Pop culture</td>\n",
       "      <td>Not selected</td>\n",
       "      <td>...</td>\n",
       "      <td>Middle Atlantic</td>\n",
       "      <td>Windows Desktop / Laptop</td>\n",
       "      <td>Non-white</td>\n",
       "      <td>Hispanic</td>\n",
       "      <td>College or more</td>\n",
       "      <td>College or more</td>\n",
       "      <td>35 - 64</td>\n",
       "      <td>No children</td>\n",
       "      <td>Gay/Bisexual</td>\n",
       "      <td>1.714026</td>\n",
       "    </tr>\n",
       "    <tr>\n",
       "      <th>1</th>\n",
       "      <td>2</td>\n",
       "      <td>5/10/18 6:30</td>\n",
       "      <td>5/10/18 6:53</td>\n",
       "      <td>3</td>\n",
       "      <td>3</td>\n",
       "      <td>Father or father figure(s)</td>\n",
       "      <td>Not selected</td>\n",
       "      <td>Not selected</td>\n",
       "      <td>Not selected</td>\n",
       "      <td>Not selected</td>\n",
       "      <td>...</td>\n",
       "      <td>East North Central</td>\n",
       "      <td>iOS Phone / Tablet</td>\n",
       "      <td>White</td>\n",
       "      <td>White</td>\n",
       "      <td>Some college</td>\n",
       "      <td>Some college</td>\n",
       "      <td>65 and up</td>\n",
       "      <td>Has children</td>\n",
       "      <td>Straight</td>\n",
       "      <td>1.247120</td>\n",
       "    </tr>\n",
       "    <tr>\n",
       "      <th>2</th>\n",
       "      <td>3</td>\n",
       "      <td>5/10/18 7:02</td>\n",
       "      <td>5/10/18 7:09</td>\n",
       "      <td>4</td>\n",
       "      <td>2</td>\n",
       "      <td>Father or father figure(s)</td>\n",
       "      <td>Not selected</td>\n",
       "      <td>Not selected</td>\n",
       "      <td>Not selected</td>\n",
       "      <td>Not selected</td>\n",
       "      <td>...</td>\n",
       "      <td>East North Central</td>\n",
       "      <td>Windows Desktop / Laptop</td>\n",
       "      <td>White</td>\n",
       "      <td>White</td>\n",
       "      <td>College or more</td>\n",
       "      <td>College or more</td>\n",
       "      <td>35 - 64</td>\n",
       "      <td>Has children</td>\n",
       "      <td>Straight</td>\n",
       "      <td>0.515746</td>\n",
       "    </tr>\n",
       "    <tr>\n",
       "      <th>3</th>\n",
       "      <td>4</td>\n",
       "      <td>5/10/18 7:27</td>\n",
       "      <td>5/10/18 7:31</td>\n",
       "      <td>4</td>\n",
       "      <td>2</td>\n",
       "      <td>Father or father figure(s)</td>\n",
       "      <td>Mother or mother figure(s)</td>\n",
       "      <td>Other family members</td>\n",
       "      <td>Not selected</td>\n",
       "      <td>Not selected</td>\n",
       "      <td>...</td>\n",
       "      <td>East North Central</td>\n",
       "      <td>Windows Desktop / Laptop</td>\n",
       "      <td>White</td>\n",
       "      <td>White</td>\n",
       "      <td>Some college</td>\n",
       "      <td>Some college</td>\n",
       "      <td>65 and up</td>\n",
       "      <td>Has children</td>\n",
       "      <td>No answer</td>\n",
       "      <td>0.600640</td>\n",
       "    </tr>\n",
       "    <tr>\n",
       "      <th>4</th>\n",
       "      <td>5</td>\n",
       "      <td>5/10/18 7:35</td>\n",
       "      <td>5/10/18 7:42</td>\n",
       "      <td>4</td>\n",
       "      <td>4</td>\n",
       "      <td>Not selected</td>\n",
       "      <td>Not selected</td>\n",
       "      <td>Other family members</td>\n",
       "      <td>Not selected</td>\n",
       "      <td>Not selected</td>\n",
       "      <td>...</td>\n",
       "      <td>East North Central</td>\n",
       "      <td>Windows Desktop / Laptop</td>\n",
       "      <td>White</td>\n",
       "      <td>White</td>\n",
       "      <td>College or more</td>\n",
       "      <td>College or more</td>\n",
       "      <td>35 - 64</td>\n",
       "      <td>No children</td>\n",
       "      <td>Straight</td>\n",
       "      <td>1.033400</td>\n",
       "    </tr>\n",
       "  </tbody>\n",
       "</table>\n",
       "<p>5 rows × 98 columns</p>\n",
       "</div>"
      ],
      "text/plain": [
       "   Unnamed: 0     StartDate       EndDate  q0001  q0002  \\\n",
       "0           1  5/10/18 4:01  5/10/18 4:06      3      3   \n",
       "1           2  5/10/18 6:30  5/10/18 6:53      3      3   \n",
       "2           3  5/10/18 7:02  5/10/18 7:09      4      2   \n",
       "3           4  5/10/18 7:27  5/10/18 7:31      4      2   \n",
       "4           5  5/10/18 7:35  5/10/18 7:42      4      4   \n",
       "\n",
       "                   q0004_0001                  q0004_0002  \\\n",
       "0                Not selected                Not selected   \n",
       "1  Father or father figure(s)                Not selected   \n",
       "2  Father or father figure(s)                Not selected   \n",
       "3  Father or father figure(s)  Mother or mother figure(s)   \n",
       "4                Not selected                Not selected   \n",
       "\n",
       "             q0004_0003    q0004_0004    q0004_0005    ...     \\\n",
       "0          Not selected   Pop culture  Not selected    ...      \n",
       "1          Not selected  Not selected  Not selected    ...      \n",
       "2          Not selected  Not selected  Not selected    ...      \n",
       "3  Other family members  Not selected  Not selected    ...      \n",
       "4  Other family members  Not selected  Not selected    ...      \n",
       "\n",
       "                q0035                     q0036      race2  racethn4  \\\n",
       "0     Middle Atlantic  Windows Desktop / Laptop  Non-white  Hispanic   \n",
       "1  East North Central        iOS Phone / Tablet      White     White   \n",
       "2  East North Central  Windows Desktop / Laptop      White     White   \n",
       "3  East North Central  Windows Desktop / Laptop      White     White   \n",
       "4  East North Central  Windows Desktop / Laptop      White     White   \n",
       "\n",
       "             educ3            educ4       age3          kids   orientation  \\\n",
       "0  College or more  College or more    35 - 64   No children  Gay/Bisexual   \n",
       "1     Some college     Some college  65 and up  Has children      Straight   \n",
       "2  College or more  College or more    35 - 64  Has children      Straight   \n",
       "3     Some college     Some college  65 and up  Has children     No answer   \n",
       "4  College or more  College or more    35 - 64   No children      Straight   \n",
       "\n",
       "     weight  \n",
       "0  1.714026  \n",
       "1  1.247120  \n",
       "2  0.515746  \n",
       "3  0.600640  \n",
       "4  1.033400  \n",
       "\n",
       "[5 rows x 98 columns]"
      ]
     },
     "execution_count": 6,
     "metadata": {},
     "output_type": "execute_result"
    }
   ],
   "source": [
    "q1_answers = list(raw_data['q0001'].unique())\n",
    "q1_answers.insert(0, q1_answers.pop(1))\n",
    "q1_answers.insert(2, q1_answers.pop(3))\n",
    "q1_answers.reverse()\n",
    "q2_answers = list(raw_data['q0002'].unique())\n",
    "q2_answers.insert(0, q2_answers.pop(2))\n",
    "q2_answers.reverse()\n",
    "q7_answers = list(raw_data['q0007_0001'].unique())\n",
    "q7_answers.insert(1, q7_answers.pop(2))\n",
    "q7_answers.reverse()\n",
    "\n",
    "scrub_data = raw_data.copy()\n",
    "\n",
    "for index1, row in raw_data.iterrows():\n",
    "    scrub_data.loc[index1, 'q0001'] = int(q1_answers.index(row['q0001']))\n",
    "    scrub_data.loc[index1, 'q0002'] = int(q2_answers.index(row['q0002']))\n",
    "    for index2, val in row['q0007_0001':'q0007_0011'].iteritems():\n",
    "        scrub_data.loc[index1, index2] = int(q7_answers.index(val))\n",
    "    for index2, val in row['q0008_0001':'q0008_0012'].iteritems():\n",
    "        if val == 'Not selected':\n",
    "            scrub_data.loc[index1, index2] = False\n",
    "        else:\n",
    "            scrub_data.loc[index1, index2] = True\n",
    "    for index2, val in row['q0020_0001':'q0020_0006'].iteritems():\n",
    "        if val == 'Not selected':\n",
    "            scrub_data.loc[index1, index2] = False\n",
    "        else:\n",
    "            scrub_data.loc[index1, index2] = True\n",
    "\n",
    "q1_answers = pd.Series(q1_answers)\n",
    "q2_answers = pd.Series(q2_answers)\n",
    "q7_answers = pd.Series(q7_answers)\n",
    "\n",
    "scrub_data.head(5)"
   ]
  },
  {
   "cell_type": "markdown",
   "metadata": {},
   "source": [
    "#### Masculinity Vs. Importance Plot\n",
    "\n",
    "We then created a 2D histogram, similar to a heat map, to find out if how important people think it is that others see them as masculine is correlated to how masculine they feel. The lighter colors correspond to a higher correlation value and the darker colors are less correlated. We created this graph through the matplotlib library in Python."
   ]
  },
  {
   "cell_type": "code",
   "execution_count": 7,
   "metadata": {},
   "outputs": [
    {
     "data": {
      "image/png": "[encoded data removed]",
      "text/plain": [
       "<Figure size 1440x720 with 2 Axes>"
      ]
     },
     "metadata": {},
     "output_type": "display_data"
    }
   ],
   "source": [
    "plot.figure(figsize = (20, 10))\n",
    "hist, xval, yval, _ = plot.hist2d(scrub_data['q0001'], scrub_data['q0002'], bins = (5, 5), range = ((-.5, 4.5), (-.5, 4.5)))\n",
    "for i in range(len(xval)-1):\n",
    "    for j in range(len(yval)-1):\n",
    "        plot.annotate(hist[i][j], (xval[i], yval[j]), xytext = (xval[i] + 0.42, yval[j] + 0.45))\n",
    "plot.colorbar()\n",
    "plot.xlabel('Masculinity Score')\n",
    "plot.ylabel('Importance Score')\n",
    "plot.title('Masculinty vs. Importance')\n",
    "plot.show()"
   ]
  },
  {
   "cell_type": "markdown",
   "metadata": {},
   "source": [
    "**Results:** This graph shows that high masculinity scores are pretty highly correlated with a high importance score, allowing us to conclude that importance of being seen as masculine is an important attribute to those who consider themselves masculine. "
   ]
  },
  {
   "cell_type": "markdown",
   "metadata": {},
   "source": [
    "#### Masculinity Vs. Importance Correlation\n",
    "\n",
    "In order to find out the general correlation between masculinity and importance of masculinity, we computed the correlation coefficient utilizing pandas corr function. The result shows a positive score which indicates that the two attributes are positively correlated meaning that they are related. However, this score is not as high as we thought it would be from the histogram above, since the result was <.5, but correlation values range from -1 to +1. Therefore, we conclude that importance of masculinity somewhat affects how masculine men perceive themselves, but is not the strongest attribute of masculinity."
   ]
  },
  {
   "cell_type": "code",
   "execution_count": 8,
   "metadata": {},
   "outputs": [
    {
     "name": "stdout",
     "output_type": "stream",
     "text": [
      "Masculinity/Importance Correllation = 0.28\n"
     ]
    }
   ],
   "source": [
    "mi_corr = scrub_data[['q0001', 'q0002']].corr('pearson')\n",
    "\n",
    "print('Masculinity/Importance Correllation = {:1.2f}'.format(mi_corr.loc['q0001', 'q0002']))"
   ]
  },
  {
   "cell_type": "markdown",
   "metadata": {},
   "source": [
    "#### Correlation of Each Answer to Question 7 Dataframe\n",
    "\n",
    "In order to discover which parts of question 7 were most connected to masculinity, we calculated the correlation scores between all the parts of the question in relation to the other parts of the question. We placed these values in a dataframe so that it would be easy and neat to visualize and so we would be able to plot out this data to better see the correlations."
   ]
  },
  {
   "cell_type": "code",
   "execution_count": 9,
   "metadata": {},
   "outputs": [
    {
     "data": {
      "text/html": [
       "<div>\n",
       "<style scoped>\n",
       "    .dataframe tbody tr th:only-of-type {\n",
       "        vertical-align: middle;\n",
       "    }\n",
       "\n",
       "    .dataframe tbody tr th {\n",
       "        vertical-align: top;\n",
       "    }\n",
       "\n",
       "    .dataframe thead th {\n",
       "        text-align: right;\n",
       "    }\n",
       "</style>\n",
       "<table border=\"1\" class=\"dataframe\">\n",
       "  <thead>\n",
       "    <tr style=\"text-align: right;\">\n",
       "      <th></th>\n",
       "      <th>q0007_0001</th>\n",
       "      <th>q0007_0002</th>\n",
       "      <th>q0007_0003</th>\n",
       "      <th>q0007_0004</th>\n",
       "      <th>q0007_0005</th>\n",
       "      <th>q0007_0006</th>\n",
       "      <th>q0007_0007</th>\n",
       "      <th>q0007_0008</th>\n",
       "      <th>q0007_0009</th>\n",
       "      <th>q0007_0010</th>\n",
       "      <th>q0007_0011</th>\n",
       "    </tr>\n",
       "  </thead>\n",
       "  <tbody>\n",
       "    <tr>\n",
       "      <th>q0007_0001</th>\n",
       "      <td>1.000000</td>\n",
       "      <td>0.638564</td>\n",
       "      <td>0.310620</td>\n",
       "      <td>0.230794</td>\n",
       "      <td>0.097909</td>\n",
       "      <td>0.138978</td>\n",
       "      <td>0.089734</td>\n",
       "      <td>0.155071</td>\n",
       "      <td>0.191120</td>\n",
       "      <td>0.212457</td>\n",
       "      <td>0.168803</td>\n",
       "    </tr>\n",
       "    <tr>\n",
       "      <th>q0007_0002</th>\n",
       "      <td>0.638564</td>\n",
       "      <td>1.000000</td>\n",
       "      <td>0.398778</td>\n",
       "      <td>0.260731</td>\n",
       "      <td>0.095923</td>\n",
       "      <td>0.110426</td>\n",
       "      <td>0.140588</td>\n",
       "      <td>0.125858</td>\n",
       "      <td>0.198921</td>\n",
       "      <td>0.276904</td>\n",
       "      <td>0.197692</td>\n",
       "    </tr>\n",
       "    <tr>\n",
       "      <th>q0007_0003</th>\n",
       "      <td>0.310620</td>\n",
       "      <td>0.398778</td>\n",
       "      <td>1.000000</td>\n",
       "      <td>0.258264</td>\n",
       "      <td>0.037018</td>\n",
       "      <td>0.025953</td>\n",
       "      <td>0.282076</td>\n",
       "      <td>0.041334</td>\n",
       "      <td>0.146013</td>\n",
       "      <td>0.245121</td>\n",
       "      <td>0.141377</td>\n",
       "    </tr>\n",
       "    <tr>\n",
       "      <th>q0007_0004</th>\n",
       "      <td>0.230794</td>\n",
       "      <td>0.260731</td>\n",
       "      <td>0.258264</td>\n",
       "      <td>1.000000</td>\n",
       "      <td>0.076073</td>\n",
       "      <td>-0.019578</td>\n",
       "      <td>0.180959</td>\n",
       "      <td>0.034387</td>\n",
       "      <td>0.075461</td>\n",
       "      <td>0.233895</td>\n",
       "      <td>0.230529</td>\n",
       "    </tr>\n",
       "    <tr>\n",
       "      <th>q0007_0005</th>\n",
       "      <td>0.097909</td>\n",
       "      <td>0.095923</td>\n",
       "      <td>0.037018</td>\n",
       "      <td>0.076073</td>\n",
       "      <td>1.000000</td>\n",
       "      <td>0.125397</td>\n",
       "      <td>0.025055</td>\n",
       "      <td>0.064368</td>\n",
       "      <td>0.092633</td>\n",
       "      <td>0.045037</td>\n",
       "      <td>0.095174</td>\n",
       "    </tr>\n",
       "    <tr>\n",
       "      <th>q0007_0006</th>\n",
       "      <td>0.138978</td>\n",
       "      <td>0.110426</td>\n",
       "      <td>0.025953</td>\n",
       "      <td>-0.019578</td>\n",
       "      <td>0.125397</td>\n",
       "      <td>1.000000</td>\n",
       "      <td>-0.326650</td>\n",
       "      <td>0.240576</td>\n",
       "      <td>0.217876</td>\n",
       "      <td>0.043859</td>\n",
       "      <td>-0.047002</td>\n",
       "    </tr>\n",
       "    <tr>\n",
       "      <th>q0007_0007</th>\n",
       "      <td>0.089734</td>\n",
       "      <td>0.140588</td>\n",
       "      <td>0.282076</td>\n",
       "      <td>0.180959</td>\n",
       "      <td>0.025055</td>\n",
       "      <td>-0.326650</td>\n",
       "      <td>1.000000</td>\n",
       "      <td>-0.170639</td>\n",
       "      <td>-0.044106</td>\n",
       "      <td>0.135890</td>\n",
       "      <td>0.139564</td>\n",
       "    </tr>\n",
       "    <tr>\n",
       "      <th>q0007_0008</th>\n",
       "      <td>0.155071</td>\n",
       "      <td>0.125858</td>\n",
       "      <td>0.041334</td>\n",
       "      <td>0.034387</td>\n",
       "      <td>0.064368</td>\n",
       "      <td>0.240576</td>\n",
       "      <td>-0.170639</td>\n",
       "      <td>1.000000</td>\n",
       "      <td>0.246188</td>\n",
       "      <td>-0.026624</td>\n",
       "      <td>0.023018</td>\n",
       "    </tr>\n",
       "    <tr>\n",
       "      <th>q0007_0009</th>\n",
       "      <td>0.191120</td>\n",
       "      <td>0.198921</td>\n",
       "      <td>0.146013</td>\n",
       "      <td>0.075461</td>\n",
       "      <td>0.092633</td>\n",
       "      <td>0.217876</td>\n",
       "      <td>-0.044106</td>\n",
       "      <td>0.246188</td>\n",
       "      <td>1.000000</td>\n",
       "      <td>0.084940</td>\n",
       "      <td>0.062015</td>\n",
       "    </tr>\n",
       "    <tr>\n",
       "      <th>q0007_0010</th>\n",
       "      <td>0.212457</td>\n",
       "      <td>0.276904</td>\n",
       "      <td>0.245121</td>\n",
       "      <td>0.233895</td>\n",
       "      <td>0.045037</td>\n",
       "      <td>0.043859</td>\n",
       "      <td>0.135890</td>\n",
       "      <td>-0.026624</td>\n",
       "      <td>0.084940</td>\n",
       "      <td>1.000000</td>\n",
       "      <td>0.332715</td>\n",
       "    </tr>\n",
       "    <tr>\n",
       "      <th>q0007_0011</th>\n",
       "      <td>0.168803</td>\n",
       "      <td>0.197692</td>\n",
       "      <td>0.141377</td>\n",
       "      <td>0.230529</td>\n",
       "      <td>0.095174</td>\n",
       "      <td>-0.047002</td>\n",
       "      <td>0.139564</td>\n",
       "      <td>0.023018</td>\n",
       "      <td>0.062015</td>\n",
       "      <td>0.332715</td>\n",
       "      <td>1.000000</td>\n",
       "    </tr>\n",
       "  </tbody>\n",
       "</table>\n",
       "</div>"
      ],
      "text/plain": [
       "            q0007_0001  q0007_0002  q0007_0003  q0007_0004  q0007_0005  \\\n",
       "q0007_0001    1.000000    0.638564    0.310620    0.230794    0.097909   \n",
       "q0007_0002    0.638564    1.000000    0.398778    0.260731    0.095923   \n",
       "q0007_0003    0.310620    0.398778    1.000000    0.258264    0.037018   \n",
       "q0007_0004    0.230794    0.260731    0.258264    1.000000    0.076073   \n",
       "q0007_0005    0.097909    0.095923    0.037018    0.076073    1.000000   \n",
       "q0007_0006    0.138978    0.110426    0.025953   -0.019578    0.125397   \n",
       "q0007_0007    0.089734    0.140588    0.282076    0.180959    0.025055   \n",
       "q0007_0008    0.155071    0.125858    0.041334    0.034387    0.064368   \n",
       "q0007_0009    0.191120    0.198921    0.146013    0.075461    0.092633   \n",
       "q0007_0010    0.212457    0.276904    0.245121    0.233895    0.045037   \n",
       "q0007_0011    0.168803    0.197692    0.141377    0.230529    0.095174   \n",
       "\n",
       "            q0007_0006  q0007_0007  q0007_0008  q0007_0009  q0007_0010  \\\n",
       "q0007_0001    0.138978    0.089734    0.155071    0.191120    0.212457   \n",
       "q0007_0002    0.110426    0.140588    0.125858    0.198921    0.276904   \n",
       "q0007_0003    0.025953    0.282076    0.041334    0.146013    0.245121   \n",
       "q0007_0004   -0.019578    0.180959    0.034387    0.075461    0.233895   \n",
       "q0007_0005    0.125397    0.025055    0.064368    0.092633    0.045037   \n",
       "q0007_0006    1.000000   -0.326650    0.240576    0.217876    0.043859   \n",
       "q0007_0007   -0.326650    1.000000   -0.170639   -0.044106    0.135890   \n",
       "q0007_0008    0.240576   -0.170639    1.000000    0.246188   -0.026624   \n",
       "q0007_0009    0.217876   -0.044106    0.246188    1.000000    0.084940   \n",
       "q0007_0010    0.043859    0.135890   -0.026624    0.084940    1.000000   \n",
       "q0007_0011   -0.047002    0.139564    0.023018    0.062015    0.332715   \n",
       "\n",
       "            q0007_0011  \n",
       "q0007_0001    0.168803  \n",
       "q0007_0002    0.197692  \n",
       "q0007_0003    0.141377  \n",
       "q0007_0004    0.230529  \n",
       "q0007_0005    0.095174  \n",
       "q0007_0006   -0.047002  \n",
       "q0007_0007    0.139564  \n",
       "q0007_0008    0.023018  \n",
       "q0007_0009    0.062015  \n",
       "q0007_0010    0.332715  \n",
       "q0007_0011    1.000000  "
      ]
     },
     "execution_count": 9,
     "metadata": {},
     "output_type": "execute_result"
    }
   ],
   "source": [
    "corr = scrub_data[['q0007_0001', 'q0007_0002', 'q0007_0003', 'q0007_0004', \n",
    "                   'q0007_0005', 'q0007_0006', 'q0007_0007', 'q0007_0008', \n",
    "                   'q0007_0009', 'q0007_0010', 'q0007_0011']].corr('pearson')\n",
    "\n",
    "corr"
   ]
  },
  {
   "cell_type": "markdown",
   "metadata": {},
   "source": [
    "**Results:** It is actually harder to see each question's correlation value from this dataframe than we had originally anticipated. Because of this, we decided to plot out all of the values to make it visually easier to detect trends in the data."
   ]
  },
  {
   "cell_type": "markdown",
   "metadata": {},
   "source": [
    "#### Correlation Heat Map\n",
    "\n",
    "The answer - another heat map! We used the seaborn library, which allows for the creation of colorful plots from pandas dataframes. More information about seaborn can be found here - https://seaborn.pydata.org/. Seaborn has a heatmap function, which allowed us to easily use the dataframe above to show which questions are more correlated with each other. The lighter colors correspond to greater correlation values, while the darker colors indicate less of a correlation. The black color corresponds to a negative correlation, which means that these two attributes are not at all related."
   ]
  },
  {
   "cell_type": "code",
   "execution_count": 10,
   "metadata": {},
   "outputs": [
    {
     "data": {
      "image/png": "[encoded data removed]",
      "text/plain": [
       "<Figure size 1440x720 with 2 Axes>"
      ]
     },
     "metadata": {},
     "output_type": "display_data"
    }
   ],
   "source": [
    "import seaborn as sns\n",
    "fig, ax = plot.subplots(figsize = (20, 10))\n",
    "sns.heatmap(corr.T, ax = ax)\n",
    "plot.show()"
   ]
  },
  {
   "cell_type": "code",
   "execution_count": 11,
   "metadata": {},
   "outputs": [
    {
     "data": {
      "text/html": [
       "<div>\n",
       "<style scoped>\n",
       "    .dataframe tbody tr th:only-of-type {\n",
       "        vertical-align: middle;\n",
       "    }\n",
       "\n",
       "    .dataframe tbody tr th {\n",
       "        vertical-align: top;\n",
       "    }\n",
       "\n",
       "    .dataframe thead th {\n",
       "        text-align: right;\n",
       "    }\n",
       "</style>\n",
       "<table border=\"1\" class=\"dataframe\">\n",
       "  <thead>\n",
       "    <tr style=\"text-align: right;\">\n",
       "      <th></th>\n",
       "      <th>meanCorr</th>\n",
       "    </tr>\n",
       "  </thead>\n",
       "  <tbody>\n",
       "    <tr>\n",
       "      <th>q0007_0001</th>\n",
       "      <td>0.223405</td>\n",
       "    </tr>\n",
       "    <tr>\n",
       "      <th>q0007_0002</th>\n",
       "      <td>0.244438</td>\n",
       "    </tr>\n",
       "    <tr>\n",
       "      <th>q0007_0003</th>\n",
       "      <td>0.188655</td>\n",
       "    </tr>\n",
       "    <tr>\n",
       "      <th>q0007_0004</th>\n",
       "      <td>0.156151</td>\n",
       "    </tr>\n",
       "    <tr>\n",
       "      <th>q0007_0005</th>\n",
       "      <td>0.075459</td>\n",
       "    </tr>\n",
       "    <tr>\n",
       "      <th>q0007_0006</th>\n",
       "      <td>0.050983</td>\n",
       "    </tr>\n",
       "    <tr>\n",
       "      <th>q0007_0007</th>\n",
       "      <td>0.045247</td>\n",
       "    </tr>\n",
       "    <tr>\n",
       "      <th>q0007_0008</th>\n",
       "      <td>0.073354</td>\n",
       "    </tr>\n",
       "    <tr>\n",
       "      <th>q0007_0009</th>\n",
       "      <td>0.127106</td>\n",
       "    </tr>\n",
       "    <tr>\n",
       "      <th>q0007_0010</th>\n",
       "      <td>0.158419</td>\n",
       "    </tr>\n",
       "    <tr>\n",
       "      <th>q0007_0011</th>\n",
       "      <td>0.134389</td>\n",
       "    </tr>\n",
       "  </tbody>\n",
       "</table>\n",
       "</div>"
      ],
      "text/plain": [
       "            meanCorr\n",
       "q0007_0001  0.223405\n",
       "q0007_0002  0.244438\n",
       "q0007_0003  0.188655\n",
       "q0007_0004  0.156151\n",
       "q0007_0005  0.075459\n",
       "q0007_0006  0.050983\n",
       "q0007_0007  0.045247\n",
       "q0007_0008  0.073354\n",
       "q0007_0009  0.127106\n",
       "q0007_0010  0.158419\n",
       "q0007_0011  0.134389"
      ]
     },
     "execution_count": 11,
     "metadata": {},
     "output_type": "execute_result"
    }
   ],
   "source": [
    "for index, row in corr.iterrows():\n",
    "    corr.loc[index, 'meanCorr'] = (sum(row) - 1) / 10\n",
    "    \n",
    "corr[['meanCorr']]"
   ]
  },
  {
   "cell_type": "code",
   "execution_count": 12,
   "metadata": {},
   "outputs": [
    {
     "data": {
      "text/html": [
       "<div>\n",
       "<style scoped>\n",
       "    .dataframe tbody tr th:only-of-type {\n",
       "        vertical-align: middle;\n",
       "    }\n",
       "\n",
       "    .dataframe tbody tr th {\n",
       "        vertical-align: top;\n",
       "    }\n",
       "\n",
       "    .dataframe thead th {\n",
       "        text-align: right;\n",
       "    }\n",
       "</style>\n",
       "<table border=\"1\" class=\"dataframe\">\n",
       "  <thead>\n",
       "    <tr style=\"text-align: right;\">\n",
       "      <th></th>\n",
       "      <th>q0001</th>\n",
       "    </tr>\n",
       "  </thead>\n",
       "  <tbody>\n",
       "    <tr>\n",
       "      <th>q0001</th>\n",
       "      <td>1.000000</td>\n",
       "    </tr>\n",
       "    <tr>\n",
       "      <th>q0007_0001</th>\n",
       "      <td>0.142660</td>\n",
       "    </tr>\n",
       "    <tr>\n",
       "      <th>q0007_0002</th>\n",
       "      <td>0.131143</td>\n",
       "    </tr>\n",
       "    <tr>\n",
       "      <th>q0007_0003</th>\n",
       "      <td>0.096200</td>\n",
       "    </tr>\n",
       "    <tr>\n",
       "      <th>q0007_0004</th>\n",
       "      <td>0.021537</td>\n",
       "    </tr>\n",
       "    <tr>\n",
       "      <th>q0007_0005</th>\n",
       "      <td>0.118729</td>\n",
       "    </tr>\n",
       "    <tr>\n",
       "      <th>q0007_0006</th>\n",
       "      <td>0.252835</td>\n",
       "    </tr>\n",
       "    <tr>\n",
       "      <th>q0007_0007</th>\n",
       "      <td>-0.088088</td>\n",
       "    </tr>\n",
       "    <tr>\n",
       "      <th>q0007_0008</th>\n",
       "      <td>0.197255</td>\n",
       "    </tr>\n",
       "    <tr>\n",
       "      <th>q0007_0009</th>\n",
       "      <td>0.175679</td>\n",
       "    </tr>\n",
       "    <tr>\n",
       "      <th>q0007_0010</th>\n",
       "      <td>-0.017769</td>\n",
       "    </tr>\n",
       "    <tr>\n",
       "      <th>q0007_0011</th>\n",
       "      <td>-0.100716</td>\n",
       "    </tr>\n",
       "  </tbody>\n",
       "</table>\n",
       "</div>"
      ],
      "text/plain": [
       "               q0001\n",
       "q0001       1.000000\n",
       "q0007_0001  0.142660\n",
       "q0007_0002  0.131143\n",
       "q0007_0003  0.096200\n",
       "q0007_0004  0.021537\n",
       "q0007_0005  0.118729\n",
       "q0007_0006  0.252835\n",
       "q0007_0007 -0.088088\n",
       "q0007_0008  0.197255\n",
       "q0007_0009  0.175679\n",
       "q0007_0010 -0.017769\n",
       "q0007_0011 -0.100716"
      ]
     },
     "execution_count": 12,
     "metadata": {},
     "output_type": "execute_result"
    }
   ],
   "source": [
    "corr = scrub_data[['q0001', 'q0007_0001', 'q0007_0002', 'q0007_0003', \n",
    "                   'q0007_0004', 'q0007_0005', 'q0007_0006', 'q0007_0007', \n",
    "                   'q0007_0008', 'q0007_0009', 'q0007_0010', 'q0007_0011']].corr('pearson')\n",
    "\n",
    "corr[['q0001']]"
   ]
  },
  {
   "cell_type": "code",
   "execution_count": 13,
   "metadata": {},
   "outputs": [],
   "source": [
    "from sklearn.model_selection import KFold, cross_val_score\n",
    "import numpy as np\n",
    "\n",
    "def skew(array):\n",
    "    return 3 * (np.mean(array) - np.median(array)) / np.std(array)"
   ]
  },
  {
   "cell_type": "code",
   "execution_count": 14,
   "metadata": {},
   "outputs": [],
   "source": [
    "x = scrub_data[['q0007_0001', 'q0007_0002', 'q0007_0003', 'q0007_0004', \n",
    "                'q0007_0005', 'q0007_0006', 'q0007_0007', 'q0007_0008', \n",
    "                'q0007_0009', 'q0007_0010', 'q0007_0011',\n",
    "                'q0008_0001', 'q0008_0002', 'q0008_0003', 'q0008_0004', \n",
    "                'q0008_0005', 'q0008_0006', 'q0008_0007', 'q0008_0008', \n",
    "                'q0008_0009', 'q0008_0010', 'q0008_0011',\n",
    "                'q0020_0001', 'q0020_0002', 'q0020_0003', 'q0020_0004', \n",
    "                'q0020_0005', 'q0020_0006']]\n",
    "y = scrub_data[['q0001']]\n",
    "x = np.array([list(i) for i in x.values])\n",
    "y = np.array([list(i) for i in y.values])\n",
    "kf = KFold(n_splits = 10, shuffle = True)\n",
    "kf.get_n_splits(x)\n",
    "for train_index, test_index in kf.split(x):\n",
    "    x_train, x_test = x[train_index], x[test_index]\n",
    "    y_train, y_test = y[train_index], y[test_index]"
   ]
  },
  {
   "cell_type": "code",
   "execution_count": 15,
   "metadata": {},
   "outputs": [
    {
     "name": "stdout",
     "output_type": "stream",
     "text": [
      "Mean Accuracy   = 45.8% +- 24.4%\n",
      "Median Accuracy = 46.9% +- 24.4%\n"
     ]
    },
    {
     "data": {
      "image/png": "[encoded data removed]",
      "text/plain": [
       "<Figure size 1440x720 with 1 Axes>"
      ]
     },
     "metadata": {},
     "output_type": "display_data"
    }
   ],
   "source": [
    "from sklearn import tree\n",
    "\n",
    "clf = tree.DecisionTreeClassifier()\n",
    "clf.fit(x_train, y_train)\n",
    "scores = cross_val_score(clf, x_test, y_test, cv = kf)\n",
    "\n",
    "print('Mean Accuracy   = {0:2.1f}% +- {2:2.1f}%\\nMedian Accuracy = {1:2.1f}% +- {2:2.1f}%'.format(\n",
    "    np.mean(scores) * 100, np.median(scores) * 100, np.std(scores) * 200))\n",
    "\n",
    "residuals = np.array([clf.predict([i]) for i in x_test]).reshape(-1, 1) - np.array(y_test)\n",
    "plot.figure(figsize = (20, 10))\n",
    "plot.hist(residuals.flatten(), bins = 9, range = (-4.5, 4.5))\n",
    "plot.text(3.5, 60, 'Residual Mean = {:1.3f}\\nResidual Spread = {:1.3f}\\nResidual Skew = {:1.3f}'.format(residuals.mean(), residuals.std(), skew(residuals)))\n",
    "plot.xlabel('Masculinity Prediction Error')\n",
    "plot.ylabel('Frequency')\n",
    "plot.title('Decision Tree Error Distribution (Q7, Q8, Q20)')\n",
    "plot.show()"
   ]
  },
  {
   "cell_type": "code",
   "execution_count": 16,
   "metadata": {},
   "outputs": [
    {
     "name": "stderr",
     "output_type": "stream",
     "text": [
      "/Users/Nate/anaconda3/lib/python3.6/site-packages/sklearn/neural_network/multilayer_perceptron.py:564: ConvergenceWarning: Stochastic Optimizer: Maximum iterations (1000) reached and the optimization hasn't converged yet.\n",
      "  % self.max_iter, ConvergenceWarning)\n",
      "/Users/Nate/anaconda3/lib/python3.6/site-packages/sklearn/neural_network/multilayer_perceptron.py:564: ConvergenceWarning: Stochastic Optimizer: Maximum iterations (1000) reached and the optimization hasn't converged yet.\n",
      "  % self.max_iter, ConvergenceWarning)\n",
      "/Users/Nate/anaconda3/lib/python3.6/site-packages/sklearn/neural_network/multilayer_perceptron.py:564: ConvergenceWarning: Stochastic Optimizer: Maximum iterations (1000) reached and the optimization hasn't converged yet.\n",
      "  % self.max_iter, ConvergenceWarning)\n",
      "/Users/Nate/anaconda3/lib/python3.6/site-packages/sklearn/neural_network/multilayer_perceptron.py:564: ConvergenceWarning: Stochastic Optimizer: Maximum iterations (1000) reached and the optimization hasn't converged yet.\n",
      "  % self.max_iter, ConvergenceWarning)\n",
      "/Users/Nate/anaconda3/lib/python3.6/site-packages/sklearn/neural_network/multilayer_perceptron.py:564: ConvergenceWarning: Stochastic Optimizer: Maximum iterations (1000) reached and the optimization hasn't converged yet.\n",
      "  % self.max_iter, ConvergenceWarning)\n",
      "/Users/Nate/anaconda3/lib/python3.6/site-packages/sklearn/neural_network/multilayer_perceptron.py:564: ConvergenceWarning: Stochastic Optimizer: Maximum iterations (1000) reached and the optimization hasn't converged yet.\n",
      "  % self.max_iter, ConvergenceWarning)\n"
     ]
    },
    {
     "name": "stdout",
     "output_type": "stream",
     "text": [
      "Mean Accuracy   = 47.7% +- 18.7%\n",
      "Median Accuracy = 43.8% +- 18.7%\n"
     ]
    },
    {
     "name": "stderr",
     "output_type": "stream",
     "text": [
      "/Users/Nate/anaconda3/lib/python3.6/site-packages/sklearn/neural_network/multilayer_perceptron.py:564: ConvergenceWarning: Stochastic Optimizer: Maximum iterations (1000) reached and the optimization hasn't converged yet.\n",
      "  % self.max_iter, ConvergenceWarning)\n"
     ]
    },
    {
     "data": {
      "image/png": "[encoded data removed]",
      "text/plain": [
       "<Figure size 1440x720 with 1 Axes>"
      ]
     },
     "metadata": {},
     "output_type": "display_data"
    }
   ],
   "source": [
    "from sklearn import neural_network\n",
    "\n",
    "nn = neural_network.MLPClassifier(hidden_layer_sizes = (100, 5), solver = 'sgd', max_iter = 1000)\n",
    "nn.fit(x_train, y_train.reshape(-1))\n",
    "scores = cross_val_score(nn, x_test, y_test.reshape(-1), cv = kf)\n",
    "\n",
    "print('Mean Accuracy   = {0:2.1f}% +- {2:2.1f}%\\nMedian Accuracy = {1:2.1f}% +- {2:2.1f}%'.format(\n",
    "    np.mean(scores) * 100, np.median(scores) * 100, np.std(scores) * 200))\n",
    "\n",
    "residuals = np.array([nn.predict([i]) for i in x_test]).reshape(-1, 1) - np.array(y_test)\n",
    "plot.figure(figsize = (20, 10))\n",
    "plot.hist(residuals.flatten(), bins = 9, range = (-4.5, 4.5))\n",
    "plot.text(3.5, 60, 'Residual Mean = {:1.3f}\\nResidual Spread = {:1.3f}\\nResidual Skew = {:1.3f}'.format(residuals.mean(), residuals.std(), skew(residuals)))\n",
    "plot.xlabel('Masculinity Prediction Error')\n",
    "plot.ylabel('Frequency')\n",
    "plot.title('MLP Classifier Error Distribution (Q7, Q8, Q20)')\n",
    "plot.show()"
   ]
  },
  {
   "cell_type": "code",
   "execution_count": 17,
   "metadata": {},
   "outputs": [],
   "source": [
    "from sklearn import linear_model\n",
    "\n",
    "x = scrub_data[['q0007_0001', 'q0007_0002', 'q0007_0003', 'q0007_0004', \n",
    "                'q0007_0005', 'q0007_0006', 'q0007_0007', 'q0007_0008', \n",
    "                'q0007_0009', 'q0007_0010', 'q0007_0011']]\n",
    "y = scrub_data[['q0001']]\n",
    "x = np.array([list(i) for i in x.values])\n",
    "y = np.array([list(i) for i in y.values])\n",
    "kf = KFold(n_splits = 10, shuffle = True)\n",
    "kf.get_n_splits(x)\n",
    "for train_index, test_index in kf.split(x):\n",
    "    x_train, x_test = x[train_index], x[test_index]\n",
    "    y_train, y_test = y[train_index], y[test_index]"
   ]
  },
  {
   "cell_type": "code",
   "execution_count": 18,
   "metadata": {},
   "outputs": [
    {
     "name": "stdout",
     "output_type": "stream",
     "text": [
      "Mean Accuracy   = -5.8% +- 6.4%\n",
      "Median Accuracy = -4.9% +- 6.4%\n"
     ]
    },
    {
     "data": {
      "image/png": "[encoded data removed]",
      "text/plain": [
       "<Figure size 1440x720 with 1 Axes>"
      ]
     },
     "metadata": {},
     "output_type": "display_data"
    }
   ],
   "source": [
    "reg = linear_model.LinearRegression()\n",
    "reg.fit(x_train, y_train)\n",
    "scores = cross_val_score(reg, x_test, y_test, cv = kf, scoring = 'neg_mean_squared_log_error')\n",
    "\n",
    "print('Mean Accuracy   = {0:2.1f}% +- {2:2.1f}%\\nMedian Accuracy = {1:2.1f}% +- {2:2.1f}%'.format(\n",
    "    np.mean(scores) * 100, np.median(scores) * 100, np.std(scores) * 200))\n",
    "\n",
    "residuals = np.array([reg.predict([i]) for i in x_test]).reshape(-1, 1) - np.array(y_test)\n",
    "plot.figure(figsize = (20, 10))\n",
    "plot.hist(residuals.flatten(), bins = 9, range = (-4.5, 4.5))\n",
    "plot.text(3.5, 60, 'Residual Mean = {:1.3f}\\nResidual Spread = {:1.3f}\\nResidual Skew = {:1.3f}'.format(residuals.mean(), residuals.std(), skew(residuals)))\n",
    "plot.xlabel('Masculinity Prediction Error')\n",
    "plot.ylabel('Frequency')\n",
    "plot.title('Linear Regressor Error Distribution (Q7)')\n",
    "plot.show()"
   ]
  },
  {
   "cell_type": "code",
   "execution_count": 19,
   "metadata": {},
   "outputs": [
    {
     "name": "stdout",
     "output_type": "stream",
     "text": [
      "Mean Accuracy   = 44.7% +- 19.0%\n",
      "Median Accuracy = 48.5% +- 19.0%\n"
     ]
    },
    {
     "data": {
      "image/png": "[encoded data removed]",
      "text/plain": [
       "<Figure size 1440x720 with 1 Axes>"
      ]
     },
     "metadata": {},
     "output_type": "display_data"
    }
   ],
   "source": [
    "clf = tree.DecisionTreeClassifier()\n",
    "clf.fit(x_train, y_train)\n",
    "scores = cross_val_score(clf, x_test, y_test, cv = kf)\n",
    "\n",
    "print('Mean Accuracy   = {0:2.1f}% +- {2:2.1f}%\\nMedian Accuracy = {1:2.1f}% +- {2:2.1f}%'.format(\n",
    "    np.mean(scores) * 100, np.median(scores) * 100, np.std(scores) * 200))\n",
    "\n",
    "residuals = np.array([clf.predict([i]) for i in x_test]).reshape(-1, 1) - np.array(y_test)\n",
    "plot.figure(figsize = (20, 10))\n",
    "plot.hist(residuals.flatten(), bins = 9, range = (-4.5, 4.5))\n",
    "plot.text(3.5, 60, 'Residual Mean = {:1.3f}\\nResidual Spread = {:1.3f}\\nResidual Skew = {:1.3f}'.format(residuals.mean(), residuals.std(), skew(residuals)))\n",
    "plot.xlabel('Masculinity Prediction Error')\n",
    "plot.ylabel('Frequency')\n",
    "plot.title('Decision Tree Error Distribution (Q7)')\n",
    "plot.show()"
   ]
  },
  {
   "cell_type": "code",
   "execution_count": 20,
   "metadata": {},
   "outputs": [],
   "source": [
    "x = scrub_data[['q0008_0001', 'q0008_0002', 'q0008_0003', 'q0008_0004', \n",
    "                'q0008_0005', 'q0008_0006', 'q0008_0007', 'q0008_0008', \n",
    "                'q0008_0009', 'q0008_0010', 'q0008_0011']]\n",
    "y = scrub_data[['q0001']]\n",
    "x = np.array([list(i) for i in x.values])\n",
    "y = np.array([list(i) for i in y.values])\n",
    "kf = KFold(n_splits = 10, shuffle = True)\n",
    "kf.get_n_splits(x)\n",
    "for train_index, test_index in kf.split(x):\n",
    "    x_train, x_test = x[train_index], x[test_index]\n",
    "    y_train, y_test = y[train_index], y[test_index]"
   ]
  },
  {
   "cell_type": "code",
   "execution_count": 21,
   "metadata": {},
   "outputs": [
    {
     "name": "stdout",
     "output_type": "stream",
     "text": [
      "Mean Accuracy   = 45.4% +- 20.6%\n",
      "Median Accuracy = 43.8% +- 20.6%\n"
     ]
    },
    {
     "data": {
      "image/png": "[encoded data removed]",
      "text/plain": [
       "<Figure size 1440x720 with 1 Axes>"
      ]
     },
     "metadata": {},
     "output_type": "display_data"
    }
   ],
   "source": [
    "reg = linear_model.LogisticRegression()\n",
    "reg.fit(x_train, np.ravel(y_train))\n",
    "scores = cross_val_score(reg, x_test, np.ravel(y_test), cv = kf)\n",
    "\n",
    "print('Mean Accuracy   = {0:2.1f}% +- {2:2.1f}%\\nMedian Accuracy = {1:2.1f}% +- {2:2.1f}%'.format(\n",
    "    np.mean(scores) * 100, np.median(scores) * 100, np.std(scores) * 200))\n",
    "\n",
    "residuals = np.array([reg.predict([i]) for i in x_test]).reshape(-1, 1) - np.array(y_test)\n",
    "plot.figure(figsize = (20, 10))\n",
    "plot.hist(residuals.flatten(), bins = 9, range = (-4.5, 4.5))\n",
    "plot.text(3.5, 60, 'Residual Mean = {:1.3f}\\nResidual Spread = {:1.3f}\\nResidual Skew = {:1.3f}'.format(residuals.mean(), residuals.std(), skew(residuals)))\n",
    "plot.xlabel('Masculinity Prediction Error')\n",
    "plot.ylabel('Frequency')\n",
    "plot.title('Logistic Regressor Error Distribution (Q8)')\n",
    "plot.show()"
   ]
  },
  {
   "cell_type": "code",
   "execution_count": 22,
   "metadata": {},
   "outputs": [
    {
     "name": "stdout",
     "output_type": "stream",
     "text": [
      "Mean Accuracy   = 38.5% +- 26.3%\n",
      "Median Accuracy = 43.8% +- 26.3%\n"
     ]
    },
    {
     "data": {
      "image/png": "[encoded data removed]",
      "text/plain": [
       "<Figure size 1440x720 with 1 Axes>"
      ]
     },
     "metadata": {},
     "output_type": "display_data"
    }
   ],
   "source": [
    "clf = tree.DecisionTreeClassifier()\n",
    "clf.fit(x_train, y_train)\n",
    "scores = cross_val_score(clf, x_test, y_test, cv = kf)\n",
    "\n",
    "print('Mean Accuracy   = {0:2.1f}% +- {2:2.1f}%\\nMedian Accuracy = {1:2.1f}% +- {2:2.1f}%'.format(\n",
    "    np.mean(scores) * 100, np.median(scores) * 100, np.std(scores) * 200))\n",
    "\n",
    "residuals = np.array([clf.predict([i]) for i in x_test]).reshape(-1, 1) - np.array(y_test)\n",
    "plot.figure(figsize = (20, 10))\n",
    "plot.hist(residuals.flatten(), bins = 9, range = (-4.5, 4.5))\n",
    "plot.text(3.5, 60, 'Residual Mean = {:1.3f}\\nResidual Spread = {:1.3f}\\nResidual Skew = {:1.3f}'.format(residuals.mean(), residuals.std(), skew(residuals)))\n",
    "plot.xlabel('Masculinity Prediction Error')\n",
    "plot.ylabel('Frequency')\n",
    "plot.title('Decision Tree Error Distribution (Q8)')\n",
    "plot.show()"
   ]
  },
  {
   "cell_type": "code",
   "execution_count": 23,
   "metadata": {},
   "outputs": [],
   "source": [
    "x = scrub_data[['q0020_0001', 'q0020_0002', 'q0020_0003', 'q0020_0004', \n",
    "                'q0020_0005', 'q0020_0006']]\n",
    "y = scrub_data[['q0001']]\n",
    "x = np.array([list(i) for i in x.values])\n",
    "y = np.array([list(i) for i in y.values])\n",
    "kf = KFold(n_splits = 10, shuffle = True)\n",
    "kf.get_n_splits(x)\n",
    "for train_index, test_index in kf.split(x):\n",
    "    x_train, x_test = x[train_index], x[test_index]\n",
    "    y_train, y_test = y[train_index], y[test_index]   "
   ]
  },
  {
   "cell_type": "code",
   "execution_count": 24,
   "metadata": {},
   "outputs": [
    {
     "name": "stdout",
     "output_type": "stream",
     "text": [
      "Mean Accuracy   = 39.7% +- 32.6%\n",
      "Median Accuracy = 46.9% +- 32.6%\n"
     ]
    },
    {
     "data": {
      "image/png": "[encoded data removed]",
      "text/plain": [
       "<Figure size 1440x720 with 1 Axes>"
      ]
     },
     "metadata": {},
     "output_type": "display_data"
    }
   ],
   "source": [
    "reg = linear_model.LogisticRegression()\n",
    "reg.fit(x_train, np.ravel(y_train))\n",
    "scores = cross_val_score(reg, x_test, np.ravel(y_test), cv = kf)\n",
    "\n",
    "print('Mean Accuracy   = {0:2.1f}% +- {2:2.1f}%\\nMedian Accuracy = {1:2.1f}% +- {2:2.1f}%'.format(\n",
    "    np.mean(scores) * 100, np.median(scores) * 100, np.std(scores) * 200))\n",
    "\n",
    "residuals = np.array([reg.predict([i]) for i in x_test]).reshape(-1, 1) - np.array(y_test)\n",
    "plot.figure(figsize = (20, 10))\n",
    "plot.hist(residuals.flatten(), bins = 9, range = (-4.5, 4.5))\n",
    "plot.text(3.5, 60, 'Residual Mean = {:1.3f}\\nResidual Spread = {:1.3f}\\nResidual Skew = {:1.3f}'.format(residuals.mean(), residuals.std(), skew(residuals)))\n",
    "plot.xlabel('Masculinity Prediction Error')\n",
    "plot.ylabel('Frequency')\n",
    "plot.title('Logistic Regressor Error Distribution (Q20)')\n",
    "plot.show()"
   ]
  },
  {
   "cell_type": "code",
   "execution_count": 25,
   "metadata": {},
   "outputs": [
    {
     "name": "stdout",
     "output_type": "stream",
     "text": [
      "Mean Accuracy   = 51.0% +- 18.2%\n",
      "Median Accuracy = 53.1% +- 18.2%\n"
     ]
    },
    {
     "data": {
      "image/png": "[encoded data removed]",
      "text/plain": [
       "<Figure size 1440x720 with 1 Axes>"
      ]
     },
     "metadata": {},
     "output_type": "display_data"
    }
   ],
   "source": [
    "clf = tree.DecisionTreeClassifier()\n",
    "clf.fit(x_train, y_train)\n",
    "scores = cross_val_score(clf, x_test, y_test, cv = kf)\n",
    "\n",
    "print('Mean Accuracy   = {0:2.1f}% +- {2:2.1f}%\\nMedian Accuracy = {1:2.1f}% +- {2:2.1f}%'.format(\n",
    "    np.mean(scores) * 100, np.median(scores) * 100, np.std(scores) * 200))\n",
    "\n",
    "residuals = np.array([clf.predict([i]) for i in x_test]).reshape(-1, 1) - np.array(y_test)\n",
    "plot.figure(figsize = (20, 10))\n",
    "plot.hist(residuals.flatten(), bins = 9, range = (-4.5, 4.5))\n",
    "plot.text(3.5, 60, 'Residual Mean = {:1.3f}\\nResidual Spread = {:1.3f}\\nResidual Skew = {:1.3f}'.format(residuals.mean(), residuals.std(), skew(residuals)))\n",
    "plot.xlabel('Masculinity Prediction Error')\n",
    "plot.ylabel('Frequency')\n",
    "plot.title('Decision Tree Error Distribution (Q20)')\n",
    "plot.show()"
   ]
  },
  {
   "cell_type": "code",
   "execution_count": null,
   "metadata": {},
   "outputs": [],
   "source": []
  }
 ],
 "metadata": {
  "kernelspec": {
   "display_name": "Python 3",
   "language": "python",
   "name": "python3"
  },
  "language_info": {
   "codemirror_mode": {
    "name": "ipython",
    "version": 3
   },
   "file_extension": ".py",
   "mimetype": "text/x-python",
   "name": "python",
   "nbconvert_exporter": "python",
   "pygments_lexer": "ipython3",
   "version": "3.6.5"
  }
 },
 "nbformat": 4,
 "nbformat_minor": 2
}
